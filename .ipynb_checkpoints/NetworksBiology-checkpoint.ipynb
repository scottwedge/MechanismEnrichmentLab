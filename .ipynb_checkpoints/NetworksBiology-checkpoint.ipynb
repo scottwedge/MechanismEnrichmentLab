{
 "cells": [
  {
   "cell_type": "code",
   "execution_count": 1,
   "metadata": {},
   "outputs": [],
   "source": [
    "import numpy as np\n",
    "import pandas as pd\n",
    "import networkx as nx\n",
    "import matplotlib.pyplot as plt\n",
    "import random\n",
    "#from igraph import Graph\n",
    "from scipy import special\n",
    "import statsmodels.stats\n",
    "import csv"
   ]
  },
  {
   "cell_type": "code",
   "execution_count": null,
   "metadata": {},
   "outputs": [],
   "source": []
  },
  {
   "cell_type": "code",
   "execution_count": 2,
   "metadata": {},
   "outputs": [
    {
     "ename": "IndentationError",
     "evalue": "expected an indented block (<ipython-input-2-b996ee9459fd>, line 19)",
     "output_type": "error",
     "traceback": [
      "\u001b[0;36m  File \u001b[0;32m\"<ipython-input-2-b996ee9459fd>\"\u001b[0;36m, line \u001b[0;32m19\u001b[0m\n\u001b[0;31m    prot1 = df_interactions.iloc[i,0]\u001b[0m\n\u001b[0m        ^\u001b[0m\n\u001b[0;31mIndentationError\u001b[0m\u001b[0;31m:\u001b[0m expected an indented block\n"
     ]
    }
   ],
   "source": [
    "\"\"\"\n",
    "Constructs a NetworkX graph.\n",
    "\n",
    "Input:\n",
    "    - file : csv file\n",
    "\n",
    "Output:\n",
    "    - graph: NetworkX graph\n",
    "\"\"\"\n",
    "def construct_graph(file):\n",
    "    df = pd.read_csv(file, sep = \"\\t\", header=None, names=[\"Protein1\", \"interaction\", \"Protein2\"])\n",
    "    df_interactions = df.replace(\"in-complex-with\", +1)\n",
    "    df_interactions = df_interactions.replace(\"controls-expression-of\", -1)\n",
    "    df_interactions = df_interactions.replace(\"controls-state-change-of\", -1)\n",
    "    \n",
    "    G = nx.DiGraph()\n",
    "    \n",
    "    for i in range(len(df_interactions)):\n",
    "    prot1 = df_interactions.iloc[i,0]\n",
    "    prot2 = df_interactions.iloc[i,2]\n",
    "    interaction = df_interactions.iloc[i,1]\n",
    "    G.add_node(prot1)\n",
    "    G.add_node(prot2)\n",
    "    G.add_edge(prot1, prot2)\n",
    "    G[prot1][prot2]['relation'] = interaction\n",
    "    \n",
    "    for n, nbrs in G.adj.items():\n",
    "    for nbr, eattr in nbrs.items():\n",
    "        relation = eattr['relation']\n",
    "        \n",
    "    return G"
   ]
  },
  {
   "cell_type": "code",
   "execution_count": null,
   "metadata": {},
   "outputs": [],
   "source": [
    "path = \"/Users/sophiakrix/Desktop/MechEnrichmentLab/NOTCH1_Intracellular.txt\"\n",
    "df = pd.read_csv(path, sep = \"\\t\", header=None, names=[\"Protein1\", \"interaction\", \"Protein2\"])"
   ]
  },
  {
   "cell_type": "code",
   "execution_count": null,
   "metadata": {},
   "outputs": [],
   "source": [
    "df.head()"
   ]
  },
  {
   "cell_type": "code",
   "execution_count": null,
   "metadata": {},
   "outputs": [],
   "source": [
    "df.columns"
   ]
  },
  {
   "cell_type": "code",
   "execution_count": null,
   "metadata": {},
   "outputs": [],
   "source": [
    "interactions_set = set(df.iloc[:,1])\n",
    "interactions_set"
   ]
  },
  {
   "cell_type": "code",
   "execution_count": null,
   "metadata": {},
   "outputs": [],
   "source": [
    "interactions = df[\"interaction\"].value_counts()\n",
    "interactions"
   ]
  },
  {
   "cell_type": "code",
   "execution_count": null,
   "metadata": {},
   "outputs": [],
   "source": [
    "df_interactions = df.replace(\"in-complex-with\", +1)\n",
    "df_interactions = df_interactions.replace(\"controls-expression-of\", -1)\n",
    "df_interactions = df_interactions.replace(\"controls-state-change-of\", -1)"
   ]
  },
  {
   "cell_type": "code",
   "execution_count": null,
   "metadata": {},
   "outputs": [],
   "source": [
    "df_interactions[\"interaction\"].value_counts()"
   ]
  },
  {
   "cell_type": "markdown",
   "metadata": {},
   "source": [
    "# NetworkX"
   ]
  },
  {
   "cell_type": "code",
   "execution_count": null,
   "metadata": {},
   "outputs": [],
   "source": [
    "G = nx.DiGraph()"
   ]
  },
  {
   "cell_type": "code",
   "execution_count": null,
   "metadata": {},
   "outputs": [],
   "source": [
    "len(df_interactions)"
   ]
  },
  {
   "cell_type": "code",
   "execution_count": null,
   "metadata": {},
   "outputs": [],
   "source": [
    "for i in range(len(df_interactions)):\n",
    "    prot1 = df_interactions.iloc[i,0]\n",
    "    prot2 = df_interactions.iloc[i,2]\n",
    "    interaction = df_interactions.iloc[i,1]\n",
    "    G.add_node(prot1)\n",
    "    G.add_node(prot2)\n",
    "    G.add_edge(prot1, prot2)\n",
    "    G[prot1][prot2]['relation'] = interaction"
   ]
  },
  {
   "cell_type": "code",
   "execution_count": null,
   "metadata": {},
   "outputs": [],
   "source": [
    "for n, nbrs in G.adj.items():\n",
    "    for nbr, eattr in nbrs.items():\n",
    "        relation = eattr['relation']\n",
    "        #print(n, nbr, relation)"
   ]
  },
  {
   "cell_type": "code",
   "execution_count": null,
   "metadata": {
    "jupyter": {
     "outputs_hidden": true
    }
   },
   "outputs": [],
   "source": [
    "plt.subplot(121)\n",
    "nx.draw(G, with_labels=True, font_weight='bold')\n",
    "#plt.subplot(122)\n",
    "#nx.draw_shell(G, nlist=[range(5, 10), range(5)], with_labels=True, font_weight='bold')"
   ]
  },
  {
   "cell_type": "code",
   "execution_count": null,
   "metadata": {},
   "outputs": [],
   "source": [
    "# Nr edges and nr of nodes \n",
    "\n",
    "print(\"Number of edges: \",G.number_of_edges(),\"\\nNumber of nodes: \",G.number_of_nodes())\n"
   ]
  },
  {
   "cell_type": "markdown",
   "metadata": {},
   "source": [
    "# Algorithmic Development"
   ]
  },
  {
   "cell_type": "code",
   "execution_count": null,
   "metadata": {},
   "outputs": [],
   "source": [
    "\"\"\"\n",
    "Randomly assigns labels of [-1,0,1] to nodes in a graph\n",
    "Labels:\n",
    "-1 : Downregulated\n",
    "0 : No change\n",
    "+1 : Upregulated\n",
    "\n",
    "Input:\n",
    "    - graph : the graph consisting of protein nodes \n",
    "\n",
    "Output:\n",
    "    - prints list of nodes with associated attribute label\n",
    "\"\"\"\n",
    "def random_node_labels(graph):\n",
    "    for node in graph.nodes():\n",
    "        random_label = random.randint(-1,1)\n",
    "        graph.nodes[node]['label'] = random_label\n",
    "    print(graph.nodes.data())"
   ]
  },
  {
   "cell_type": "code",
   "execution_count": null,
   "metadata": {},
   "outputs": [],
   "source": [
    "random_node_labels(G)"
   ]
  },
  {
   "cell_type": "code",
   "execution_count": null,
   "metadata": {},
   "outputs": [],
   "source": [
    "\"\"\"\n",
    "Caclulates the shortest path between two nodes.\n",
    "\n",
    "Input:\n",
    "    - graph : NetworkX graph\n",
    "    - source : upstream source node\n",
    "\n",
    "\n",
    "Output:\n",
    "    - dictionary of shortest path nodes between source node and all other nodes in graph\n",
    "\"\"\"\n",
    "def shortest_path(graph, source):\n",
    "    for target in graph.nodes():\n",
    "        shortest_paths = nx.shortest_path(graph, source)\n",
    "    return shortest_paths"
   ]
  },
  {
   "cell_type": "code",
   "execution_count": null,
   "metadata": {},
   "outputs": [],
   "source": [
    "shortest_path(G, \"CCNC\")"
   ]
  },
  {
   "cell_type": "code",
   "execution_count": null,
   "metadata": {},
   "outputs": [],
   "source": [
    "\"\"\"\n",
    "Check if node labels of source and target node are the same\n",
    "\n",
    "Input:\n",
    "    - graph: NetworkX graph\n",
    "    - source: source upstream node\n",
    "    \n",
    "Output:\n",
    "    - list of concordant and non-concordant nodes for the source node\n",
    "\"\"\"\n",
    "def count_concordance(graph, source):\n",
    "    \n",
    "    same_label = False\n",
    "\n",
    "    concordant_nodes = []\n",
    "    non_concordant_nodes = []\n",
    "    no_change_nodes = []\n",
    "    \n",
    "    for target, path_nodes in shortest_path(graph,source).items():\n",
    "\n",
    "        # check if node labels of source and target are the same\n",
    "        if G.nodes[source]['label'] == 1 and G.nodes[target]['label'] == 1:\n",
    "            same_label = True\n",
    "        if G.nodes[source]['label'] == -1 and G.nodes[target]['label'] == -1:\n",
    "            same_label = True\n",
    "            \n",
    "        # multiply the edge labels\n",
    "        edge_label = 1\n",
    "        for i in range(len(path_nodes)-1):\n",
    "            temp_edge_label = G[path_nodes[i]][path_nodes[i+1]]['relation']\n",
    "            edge_label *= temp_edge_label\n",
    "        \n",
    "        # concordant node\n",
    "        if same_label == True and edge_label == +1:\n",
    "            graph.nodes[target]['concordance'] = +1\n",
    "            concordant_nodes.append(target)\n",
    "        \n",
    "        # non-concordant node\n",
    "        if same_label == False and edge_label == -1:\n",
    "            graph.nodes[target]['concordance'] = -1\n",
    "            non_concordant_nodes.append(target)\n",
    "            \n",
    "        # no change node\n",
    "        if G.nodes[source]['label'] == 0 and G.nodes[target]['label'] == 0:\n",
    "            no_change_nodes.append(target)\n",
    "        \n",
    "    return concordant_nodes, non_concordant_nodes, no_change_nodes\n",
    "            "
   ]
  },
  {
   "cell_type": "code",
   "execution_count": null,
   "metadata": {},
   "outputs": [],
   "source": [
    "count_concordance(G, \"CCNC\")"
   ]
  },
  {
   "cell_type": "code",
   "execution_count": null,
   "metadata": {},
   "outputs": [],
   "source": []
  },
  {
   "cell_type": "code",
   "execution_count": null,
   "metadata": {},
   "outputs": [],
   "source": [
    "\"\"\"\n",
    "Returns a dictionary of the nodes of the graph with their according\n",
    "     - shortest path nodes\n",
    "     - concordant nodes\n",
    "     - non-concordant nodes\n",
    "     - no change nodes\n",
    "     \n",
    "Input:\n",
    "    - graph\n",
    "    \n",
    "Output:\n",
    "    - dictionary of nodes \n",
    "\"\"\"\n",
    "def nodes_dictionary(graph):\n",
    "    dic = {}\n",
    "    for node in graph.nodes():\n",
    "        dic[node] = {}\n",
    "        \n",
    "        # shortest path nodes\n",
    "        dic[node]['shortest_path'] = list(shortest_path(graph,node).keys())\n",
    "        \n",
    "        # concordant nodes\n",
    "        dic[node]['concordant'] = count_concordance(graph, node)[0]\n",
    "        \n",
    "        # non-concordant nodes\n",
    "        dic[node]['non-concordant'] = count_concordance(graph, node)[1]\n",
    "        \n",
    "        # no change nodes\n",
    "        dic[node]['no change'] = count_concordance(graph, node)[2]\n",
    "    \n",
    "    return dic"
   ]
  },
  {
   "cell_type": "code",
   "execution_count": null,
   "metadata": {},
   "outputs": [],
   "source": [
    "nodes_dictionary(G)['CCNC']"
   ]
  },
  {
   "cell_type": "code",
   "execution_count": null,
   "metadata": {},
   "outputs": [],
   "source": [
    "\"\"\"\n",
    "Calculates the concordance for an upstream node with its downstream nodes\n",
    "Probability of getting at least the number of state changes consistent\n",
    "with the direction\n",
    "Input:\n",
    "    - graph\n",
    "    \n",
    "Output:\n",
    "    - p-value for concordance\n",
    "\"\"\"\n",
    "def calculate_concordance(graph):\n",
    "    concordance_dic = {}\n",
    "\n",
    "    #assert 0 <= p and p <= 1, \"p must be within [0,1]\"\n",
    "\n",
    "    if hyp_node not in graph.nodes():\n",
    "        raise ValueError(f\"The node {hyp_node} is not in the graph.\")\n",
    "\n",
    "    for hyp_node in graph.nodes():\n",
    "        # n is number of trials\n",
    "        n = len(shortest_path(graph, hyp_node).keys())\n",
    "        # k is number of successful predictions\n",
    "        k = len(count_concordance(graph, hyp_node)['concordant'])\n",
    "\n",
    "        bin_coeff = special.binom(n, k)\n",
    "        concordance = bin_coeff * (0.5 ** k) * (1 - 0.5) ** (n - k)\n",
    "        concordance_dic[hyp_node] = {}\n",
    "        concordance_dic[hyp_node]['p_val'] = concordance\n",
    "\n",
    "    # correction for multiple testing\n",
    "    reject, pvals_corrected = multitest.multipletests(concordance_dic.values()),alpha=0.05,method='bonferroni')\n",
    "    corrected_concordance_dic = {}\n",
    "    for node, pval in zip(graph.nodes(),pvals_corrected):\n",
    "        concordance_dic[node]['p_val_corrected'] = pval\n",
    "\n",
    "    return concordance_dic"
   ]
  },
  {
   "cell_type": "code",
   "execution_count": null,
   "metadata": {},
   "outputs": [],
   "source": [
    "calculate_concordance(G, 'NOTCH1', 0.5)\n"
   ]
  },
  {
   "cell_type": "code",
   "execution_count": null,
   "metadata": {},
   "outputs": [],
   "source": [
    "\"\"\"\n",
    "Writes the values for nodes, concordant_nodes, non_concordant_nodes, no_change_nodes, p_val, p_val_corrected to a csv file\n",
    "\n",
    "Input:\n",
    "- dic\n",
    "\n",
    "Output:\n",
    "- csv file\n",
    "\"\"\"\n",
    "def write_concordance_csv(graph, csv_output):\n",
    "    \n",
    "    for node in graph.nodes():\n",
    "        \n",
    "        dic[node] = count_concordance(graph, node)\n",
    "        dic[node]['p_val'] = calculate_concordance(graph)[node]['p_val']\n",
    "        dic[node]['p_val_corrected'] = calculate_concordance(graph)[node]['p_val_corrected']\n",
    "        \n",
    " \n",
    "    csv_columns = ['concordant', 'non-concordant', 'no change', 'p_val', 'p_val_corrected']\n",
    "\n",
    "    try:\n",
    "        with open(csv_output, 'w') as csvfile:\n",
    "            writer = csv.DictWriter(csvfile, fieldnames=csv_columns)\n",
    "            writer.writeheader()\n",
    "            for data in dic:\n",
    "                writer.writerow(data)\n",
    "    except IOError:\n",
    "        print(\"I/O error\")\n",
    "        \n",
    "        "
   ]
  },
  {
   "cell_type": "code",
   "execution_count": null,
   "metadata": {},
   "outputs": [],
   "source": [
    "write_concordance_csv(G, \"/Users/sophiakrix/Desktop/Concordance_test.csv\")"
   ]
  },
  {
   "cell_type": "code",
   "execution_count": null,
   "metadata": {},
   "outputs": [],
   "source": []
  }
 ],
 "metadata": {
  "kernelspec": {
   "display_name": "Python 3",
   "language": "python",
   "name": "python3"
  },
  "language_info": {
   "codemirror_mode": {
    "name": "ipython",
    "version": 3
   },
   "file_extension": ".py",
   "mimetype": "text/x-python",
   "name": "python",
   "nbconvert_exporter": "python",
   "pygments_lexer": "ipython3",
   "version": "3.7.4"
  }
 },
 "nbformat": 4,
 "nbformat_minor": 4
}
