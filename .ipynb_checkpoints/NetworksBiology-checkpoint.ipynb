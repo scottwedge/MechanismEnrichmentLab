{
 "cells": [
  {
   "cell_type": "code",
   "execution_count": 50,
   "metadata": {},
   "outputs": [],
   "source": [
    "import pandas as pd\n",
    "import networkx as nx\n",
    "import random\n",
    "from scipy import special\n",
    "from collections import defaultdict\n",
    "import click\n",
    "import os\n",
    "from statsmodels.stats import multitest\n",
    "import csv"
   ]
  },
  {
   "cell_type": "code",
   "execution_count": 10,
   "metadata": {},
   "outputs": [],
   "source": []
  },
  {
   "cell_type": "code",
   "execution_count": 12,
   "metadata": {},
   "outputs": [],
   "source": [
    "\"\"\"\n",
    "Constructs a NetworkX graph.\n",
    "\n",
    "Input:\n",
    "    - file : csv file\n",
    "\n",
    "Output:\n",
    "    - graph: NetworkX graph\n",
    "\"\"\"\n",
    "def construct_graph(file):\n",
    "    df = pd.read_csv(file, sep = \"\\t\", header=None, names=[\"Protein1\", \"interaction\", \"Protein2\"])\n",
    "    df_interactions = df.replace(\"in-complex-with\", +1)\n",
    "    df_interactions = df_interactions.replace(\"controls-expression-of\", -1)\n",
    "    df_interactions = df_interactions.replace(\"controls-state-change-of\", -1)\n",
    "    \n",
    "    G = nx.DiGraph()\n",
    "    \n",
    "    for i in range(len(df_interactions)):\n",
    "        prot1 = df_interactions.iloc[i,0]\n",
    "        prot2 = df_interactions.iloc[i,2]\n",
    "        interaction = df_interactions.iloc[i,1]\n",
    "        G.add_node(prot1)\n",
    "        G.add_node(prot2)\n",
    "        G.add_edge(prot1, prot2)\n",
    "        G[prot1][prot2]['relation'] = interaction\n",
    "    \n",
    "    for n, nbrs in G.adj.items():\n",
    "        for nbr, eattr in nbrs.items():\n",
    "            relation = eattr['relation']\n",
    "        \n",
    "    return G"
   ]
  },
  {
   "cell_type": "code",
   "execution_count": 13,
   "metadata": {},
   "outputs": [],
   "source": [
    "path = \"/Users/sophiakrix/Desktop/MechEnrichmentLab/NOTCH1_Intracellular.txt\"\n",
    "df = pd.read_csv(path, sep = \"\\t\", header=None, names=[\"Protein1\", \"interaction\", \"Protein2\"])"
   ]
  },
  {
   "cell_type": "code",
   "execution_count": 14,
   "metadata": {},
   "outputs": [
    {
     "data": {
      "text/html": [
       "<div>\n",
       "<style scoped>\n",
       "    .dataframe tbody tr th:only-of-type {\n",
       "        vertical-align: middle;\n",
       "    }\n",
       "\n",
       "    .dataframe tbody tr th {\n",
       "        vertical-align: top;\n",
       "    }\n",
       "\n",
       "    .dataframe thead th {\n",
       "        text-align: right;\n",
       "    }\n",
       "</style>\n",
       "<table border=\"1\" class=\"dataframe\">\n",
       "  <thead>\n",
       "    <tr style=\"text-align: right;\">\n",
       "      <th></th>\n",
       "      <th>Protein1</th>\n",
       "      <th>interaction</th>\n",
       "      <th>Protein2</th>\n",
       "    </tr>\n",
       "  </thead>\n",
       "  <tbody>\n",
       "    <tr>\n",
       "      <td>0</td>\n",
       "      <td>CCNC</td>\n",
       "      <td>in-complex-with</td>\n",
       "      <td>CDK8</td>\n",
       "    </tr>\n",
       "    <tr>\n",
       "      <td>1</td>\n",
       "      <td>CCNC</td>\n",
       "      <td>in-complex-with</td>\n",
       "      <td>CREBBP</td>\n",
       "    </tr>\n",
       "    <tr>\n",
       "      <td>2</td>\n",
       "      <td>CCNC</td>\n",
       "      <td>in-complex-with</td>\n",
       "      <td>EP300</td>\n",
       "    </tr>\n",
       "    <tr>\n",
       "      <td>3</td>\n",
       "      <td>CCNC</td>\n",
       "      <td>in-complex-with</td>\n",
       "      <td>KAT2A</td>\n",
       "    </tr>\n",
       "    <tr>\n",
       "      <td>4</td>\n",
       "      <td>CCNC</td>\n",
       "      <td>in-complex-with</td>\n",
       "      <td>KAT2B</td>\n",
       "    </tr>\n",
       "  </tbody>\n",
       "</table>\n",
       "</div>"
      ],
      "text/plain": [
       "<div>\n",
       "<style scoped>\n",
       "    .dataframe tbody tr th:only-of-type {\n",
       "        vertical-align: middle;\n",
       "    }\n",
       "\n",
       "    .dataframe tbody tr th {\n",
       "        vertical-align: top;\n",
       "    }\n",
       "\n",
       "    .dataframe thead th {\n",
       "        text-align: right;\n",
       "    }\n",
       "</style>\n",
       "<table border=\"1\" class=\"dataframe\">\n",
       "  <thead>\n",
       "    <tr style=\"text-align: right;\">\n",
       "      <th></th>\n",
       "      <th>Protein1</th>\n",
       "      <th>interaction</th>\n",
       "      <th>Protein2</th>\n",
       "    </tr>\n",
       "  </thead>\n",
       "  <tbody>\n",
       "    <tr>\n",
       "      <td>0</td>\n",
       "      <td>CCNC</td>\n",
       "      <td>in-complex-with</td>\n",
       "      <td>CDK8</td>\n",
       "    </tr>\n",
       "    <tr>\n",
       "      <td>1</td>\n",
       "      <td>CCNC</td>\n",
       "      <td>in-complex-with</td>\n",
       "      <td>CREBBP</td>\n",
       "    </tr>\n",
       "    <tr>\n",
       "      <td>2</td>\n",
       "      <td>CCNC</td>\n",
       "      <td>in-complex-with</td>\n",
       "      <td>EP300</td>\n",
       "    </tr>\n",
       "    <tr>\n",
       "      <td>3</td>\n",
       "      <td>CCNC</td>\n",
       "      <td>in-complex-with</td>\n",
       "      <td>KAT2A</td>\n",
       "    </tr>\n",
       "    <tr>\n",
       "      <td>4</td>\n",
       "      <td>CCNC</td>\n",
       "      <td>in-complex-with</td>\n",
       "      <td>KAT2B</td>\n",
       "    </tr>\n",
       "  </tbody>\n",
       "</table>\n",
       "</div>"
      ]
     },
     "execution_count": 14,
     "metadata": {},
     "output_type": "execute_result"
    }
   ],
   "source": [
    "df.head()"
   ]
  },
  {
   "cell_type": "code",
   "execution_count": 15,
   "metadata": {},
   "outputs": [
    {
     "data": {
      "text/plain": [
       "Index(['Protein1', 'interaction', 'Protein2'], dtype='object')"
      ]
     },
     "execution_count": 15,
     "metadata": {},
     "output_type": "execute_result"
    }
   ],
   "source": [
    "df.columns"
   ]
  },
  {
   "cell_type": "code",
   "execution_count": 16,
   "metadata": {},
   "outputs": [
    {
     "data": {
      "text/plain": [
       "{'controls-expression-of', 'controls-state-change-of', 'in-complex-with'}"
      ]
     },
     "execution_count": 16,
     "metadata": {},
     "output_type": "execute_result"
    }
   ],
   "source": [
    "interactions_set = set(df.iloc[:,1])\n",
    "interactions_set"
   ]
  },
  {
   "cell_type": "code",
   "execution_count": 17,
   "metadata": {},
   "outputs": [
    {
     "data": {
      "text/plain": [
       "in-complex-with             234\n",
       "controls-expression-of       72\n",
       "controls-state-change-of     12\n",
       "Name: interaction, dtype: int64"
      ]
     },
     "execution_count": 17,
     "metadata": {},
     "output_type": "execute_result"
    }
   ],
   "source": [
    "interactions = df[\"interaction\"].value_counts()\n",
    "interactions"
   ]
  },
  {
   "cell_type": "code",
   "execution_count": 18,
   "metadata": {},
   "outputs": [],
   "source": [
    "df_interactions = df.replace(\"in-complex-with\", +1)\n",
    "df_interactions = df_interactions.replace(\"controls-expression-of\", -1)\n",
    "df_interactions = df_interactions.replace(\"controls-state-change-of\", -1)"
   ]
  },
  {
   "cell_type": "code",
   "execution_count": 19,
   "metadata": {},
   "outputs": [
    {
     "data": {
      "text/plain": [
       " 1    234\n",
       "-1     84\n",
       "Name: interaction, dtype: int64"
      ]
     },
     "execution_count": 19,
     "metadata": {},
     "output_type": "execute_result"
    }
   ],
   "source": [
    "df_interactions[\"interaction\"].value_counts()"
   ]
  },
  {
   "cell_type": "markdown",
   "metadata": {},
   "source": [
    "# NetworkX"
   ]
  },
  {
   "cell_type": "code",
   "execution_count": 20,
   "metadata": {},
   "outputs": [],
   "source": [
    "G = nx.DiGraph()"
   ]
  },
  {
   "cell_type": "code",
   "execution_count": 21,
   "metadata": {},
   "outputs": [
    {
     "data": {
      "text/plain": [
       "318"
      ]
     },
     "execution_count": 21,
     "metadata": {},
     "output_type": "execute_result"
    }
   ],
   "source": [
    "len(df_interactions)"
   ]
  },
  {
   "cell_type": "code",
   "execution_count": 22,
   "metadata": {},
   "outputs": [],
   "source": [
    "for i in range(len(df_interactions)):\n",
    "    prot1 = df_interactions.iloc[i,0]\n",
    "    prot2 = df_interactions.iloc[i,2]\n",
    "    interaction = df_interactions.iloc[i,1]\n",
    "    G.add_node(prot1)\n",
    "    G.add_node(prot2)\n",
    "    G.add_edge(prot1, prot2)\n",
    "    G[prot1][prot2]['relation'] = interaction"
   ]
  },
  {
   "cell_type": "code",
   "execution_count": 23,
   "metadata": {},
   "outputs": [],
   "source": [
    "for n, nbrs in G.adj.items():\n",
    "    for nbr, eattr in nbrs.items():\n",
    "        relation = eattr['relation']\n",
    "        #print(n, nbr, relation)"
   ]
  },
  {
   "cell_type": "code",
   "execution_count": 24,
   "metadata": {
    "collapsed": true,
    "jupyter": {
     "outputs_hidden": true
    }
   },
   "outputs": [
    {
     "ename": "NameError",
     "evalue": "name 'plt' is not defined",
     "output_type": "error",
     "traceback": [
      "\u001b[0;31m---------------------------------------------------------------------------\u001b[0m",
      "\u001b[0;31mNameError\u001b[0m                                 Traceback (most recent call last)",
      "\u001b[0;32m<ipython-input-24-27502590db28>\u001b[0m in \u001b[0;36m<module>\u001b[0;34m\u001b[0m\n\u001b[0;32m----> 1\u001b[0;31m \u001b[0mplt\u001b[0m\u001b[0;34m.\u001b[0m\u001b[0msubplot\u001b[0m\u001b[0;34m(\u001b[0m\u001b[0;36m121\u001b[0m\u001b[0;34m)\u001b[0m\u001b[0;34m\u001b[0m\u001b[0;34m\u001b[0m\u001b[0m\n\u001b[0m\u001b[1;32m      2\u001b[0m \u001b[0mnx\u001b[0m\u001b[0;34m.\u001b[0m\u001b[0mdraw\u001b[0m\u001b[0;34m(\u001b[0m\u001b[0mG\u001b[0m\u001b[0;34m,\u001b[0m \u001b[0mwith_labels\u001b[0m\u001b[0;34m=\u001b[0m\u001b[0;32mTrue\u001b[0m\u001b[0;34m,\u001b[0m \u001b[0mfont_weight\u001b[0m\u001b[0;34m=\u001b[0m\u001b[0;34m'bold'\u001b[0m\u001b[0;34m)\u001b[0m\u001b[0;34m\u001b[0m\u001b[0;34m\u001b[0m\u001b[0m\n\u001b[1;32m      3\u001b[0m \u001b[0;31m#plt.subplot(122)\u001b[0m\u001b[0;34m\u001b[0m\u001b[0;34m\u001b[0m\u001b[0;34m\u001b[0m\u001b[0m\n\u001b[1;32m      4\u001b[0m \u001b[0;31m#nx.draw_shell(G, nlist=[range(5, 10), range(5)], with_labels=True, font_weight='bold')\u001b[0m\u001b[0;34m\u001b[0m\u001b[0;34m\u001b[0m\u001b[0;34m\u001b[0m\u001b[0m\n",
      "\u001b[0;31mNameError\u001b[0m: name 'plt' is not defined"
     ]
    }
   ],
   "source": [
    "plt.subplot(121)\n",
    "nx.draw(G, with_labels=True, font_weight='bold')\n",
    "#plt.subplot(122)\n",
    "#nx.draw_shell(G, nlist=[range(5, 10), range(5)], with_labels=True, font_weight='bold')"
   ]
  },
  {
   "cell_type": "code",
   "execution_count": 25,
   "metadata": {},
   "outputs": [
    {
     "name": "stdout",
     "output_type": "stream",
     "text": [
      "Number of edges:  290 \n",
      "Number of nodes:  47\n"
     ]
    }
   ],
   "source": [
    "# Nr edges and nr of nodes \n",
    "\n",
    "print(\"Number of edges: \",G.number_of_edges(),\"\\nNumber of nodes: \",G.number_of_nodes())\n"
   ]
  },
  {
   "cell_type": "markdown",
   "metadata": {},
   "source": [
    "# Algorithmic Development"
   ]
  },
  {
   "cell_type": "code",
   "execution_count": 26,
   "metadata": {},
   "outputs": [],
   "source": [
    "\"\"\"\n",
    "Randomly assigns labels of [-1,0,1] to nodes in a graph\n",
    "Labels:\n",
    "-1 : Downregulated\n",
    "0 : No change\n",
    "+1 : Upregulated\n",
    "\n",
    "Input:\n",
    "    - graph : the graph consisting of protein nodes \n",
    "\n",
    "Output:\n",
    "    - prints list of nodes with associated attribute label\n",
    "\"\"\"\n",
    "def random_node_labels(graph):\n",
    "    for node in graph.nodes():\n",
    "        random_label = random.randint(-1,1)\n",
    "        graph.nodes[node]['label'] = random_label\n",
    "    print(graph.nodes.data())"
   ]
  },
  {
   "cell_type": "code",
   "execution_count": 27,
   "metadata": {},
   "outputs": [
    {
     "name": "stdout",
     "output_type": "stream",
     "text": [
      "[('CCNC', {'label': 0}), ('CDK8', {'label': 0}), ('CREBBP', {'label': -1}), ('EP300', {'label': 1}), ('KAT2A', {'label': 1}), ('KAT2B', {'label': 1}), ('MAML1', {'label': 0}), ('MAML2', {'label': -1}), ('MAML3', {'label': 0}), ('MAMLD1', {'label': 1}), ('NOTCH1', {'label': 1}), ('RBPJ', {'label': 0}), ('SNW1', {'label': 0}), ('HES1', {'label': 0}), ('HES5', {'label': -1}), ('HEY1', {'label': 0}), ('HEY2', {'label': -1}), ('HEYL', {'label': 0}), ('MYC', {'label': -1}), ('CUL1', {'label': -1}), ('FBXW7', {'label': 0}), ('RBX1', {'label': 0}), ('SKP1', {'label': -1}), ('HDAC10', {'label': -1}), ('NCOR1', {'label': -1}), ('NCOR2', {'label': 0}), ('TBL1XR1', {'label': 1}), ('TBL1X', {'label': 0}), ('HDAC11', {'label': -1}), ('HDAC1', {'label': -1}), ('HDAC2', {'label': 1}), ('HDAC3', {'label': 0}), ('HDAC4', {'label': -1}), ('HDAC5', {'label': 1}), ('HDAC6', {'label': 1}), ('HDAC7', {'label': 1}), ('HDAC8', {'label': 0}), ('HDAC9', {'label': -1}), ('TLE1', {'label': 1}), ('TLE2', {'label': -1}), ('TLE3', {'label': 0}), ('TLE4', {'label': -1}), ('HIF1A', {'label': 0}), ('RPS27A', {'label': 0}), ('UBA52', {'label': 1}), ('UBB', {'label': 0}), ('UBC', {'label': 1})]\n"
     ]
    }
   ],
   "source": [
    "random_node_labels(G)"
   ]
  },
  {
   "cell_type": "code",
   "execution_count": 28,
   "metadata": {},
   "outputs": [],
   "source": [
    "\"\"\"\n",
    "Caclulates the shortest path between two nodes.\n",
    "\n",
    "Input:\n",
    "    - graph : NetworkX graph\n",
    "    - source : upstream source node\n",
    "\n",
    "\n",
    "Output:\n",
    "    - dictionary of shortest path nodes between source node and all other nodes in graph\n",
    "\"\"\"\n",
    "def shortest_path(graph, source):\n",
    "    for target in graph.nodes():\n",
    "        shortest_paths = nx.shortest_path(graph, source)\n",
    "    return shortest_paths"
   ]
  },
  {
   "cell_type": "code",
   "execution_count": 29,
   "metadata": {},
   "outputs": [
    {
     "data": {
      "text/plain": [
       "{'CCNC': ['CCNC'],\n",
       " 'CDK8': ['CCNC', 'CDK8'],\n",
       " 'CREBBP': ['CCNC', 'CREBBP'],\n",
       " 'EP300': ['CCNC', 'EP300'],\n",
       " 'KAT2A': ['CCNC', 'KAT2A'],\n",
       " 'KAT2B': ['CCNC', 'KAT2B'],\n",
       " 'MAML1': ['CCNC', 'MAML1'],\n",
       " 'MAML2': ['CCNC', 'MAML2'],\n",
       " 'MAML3': ['CCNC', 'MAML3'],\n",
       " 'MAMLD1': ['CCNC', 'MAMLD1'],\n",
       " 'NOTCH1': ['CCNC', 'NOTCH1'],\n",
       " 'RBPJ': ['CCNC', 'RBPJ'],\n",
       " 'SNW1': ['CCNC', 'SNW1'],\n",
       " 'HES1': ['CCNC', 'CREBBP', 'HES1'],\n",
       " 'HES5': ['CCNC', 'CREBBP', 'HES5'],\n",
       " 'HEY1': ['CCNC', 'CREBBP', 'HEY1'],\n",
       " 'HEY2': ['CCNC', 'CREBBP', 'HEY2'],\n",
       " 'HEYL': ['CCNC', 'CREBBP', 'HEYL'],\n",
       " 'MYC': ['CCNC', 'CREBBP', 'MYC'],\n",
       " 'RBX1': ['CCNC', 'NOTCH1', 'RBX1'],\n",
       " 'RPS27A': ['CCNC', 'NOTCH1', 'RPS27A'],\n",
       " 'SKP1': ['CCNC', 'NOTCH1', 'SKP1'],\n",
       " 'UBA52': ['CCNC', 'NOTCH1', 'UBA52'],\n",
       " 'UBB': ['CCNC', 'NOTCH1', 'UBB'],\n",
       " 'UBC': ['CCNC', 'NOTCH1', 'UBC'],\n",
       " 'TBL1XR1': ['CCNC', 'RBPJ', 'TBL1XR1'],\n",
       " 'TBL1X': ['CCNC', 'RBPJ', 'TBL1X'],\n",
       " 'TLE1': ['CCNC', 'CREBBP', 'HES1', 'TLE1'],\n",
       " 'TLE2': ['CCNC', 'CREBBP', 'HES1', 'TLE2'],\n",
       " 'TLE3': ['CCNC', 'CREBBP', 'HES1', 'TLE3'],\n",
       " 'TLE4': ['CCNC', 'CREBBP', 'HES1', 'TLE4']}"
      ]
     },
     "execution_count": 29,
     "metadata": {},
     "output_type": "execute_result"
    }
   ],
   "source": [
    "shortest_path(G, \"CCNC\")"
   ]
  },
  {
   "cell_type": "code",
   "execution_count": 78,
   "metadata": {},
   "outputs": [],
   "source": [
    "\"\"\"\n",
    "Check if node labels of source and target node are the same\n",
    "\n",
    "Input:\n",
    "    - graph: NetworkX graph\n",
    "    - source: source upstream node\n",
    "\n",
    "Output:\n",
    "    - list of concordant and non-concordant nodes for the source node\n",
    "\"\"\"\n",
    "\n",
    "\n",
    "def count_concordance(graph, source):\n",
    "    same_label = False\n",
    "\n",
    "    nodes_dic = defaultdict(list)\n",
    "\n",
    "    for target, path_nodes in shortest_path(graph, source).items():\n",
    "\n",
    "        # check if node labels of source and target are the same\n",
    "        if G.nodes[source]['label'] * G.nodes[target]['label'] is 1:\n",
    "            same_label = True\n",
    "\n",
    "        # multiply the edge labels\n",
    "        #edge_label = [G[path_nodes[i]][path_nodes[i + 1]]['relation'] * G[path_nodes[i]][path_nodes[i + 1]]['relation']\n",
    "                      #for i in range(len(path_nodes) - 1)]\n",
    "\n",
    "        edge_label = 1\n",
    "        for i in range(len(path_nodes)-1):\n",
    "            temp_edge_label = G[path_nodes[i]][path_nodes[i+1]]['relation']\n",
    "            edge_label *= temp_edge_label\n",
    "\n",
    "        # concordant node\n",
    "        if same_label == True and edge_label == +1:\n",
    "            graph.nodes[target]['concordance'] = +1\n",
    "            nodes_dic['concordant'].append(target)\n",
    "\n",
    "        # non-concordant node\n",
    "        if same_label == False and edge_label == -1:\n",
    "            graph.nodes[target]['concordance'] = -1\n",
    "            nodes_dic['non-concordant'].append(target)\n",
    "\n",
    "        # no change node\n",
    "        if G.nodes[source]['label'] == 0 and G.nodes[target]['label'] == 0:\n",
    "            nodes_dic['no change'].append(target)\n",
    "\n",
    "    return nodes_dic\n"
   ]
  },
  {
   "cell_type": "code",
   "execution_count": 79,
   "metadata": {},
   "outputs": [
    {
     "data": {
      "text/plain": [
       "defaultdict(list,\n",
       "            {'concordant': ['NOTCH1',\n",
       "              'RBPJ',\n",
       "              'RBX1',\n",
       "              'RPS27A',\n",
       "              'SKP1',\n",
       "              'SNW1',\n",
       "              'UBA52',\n",
       "              'UBB',\n",
       "              'UBC',\n",
       "              'TBL1XR1',\n",
       "              'TBL1X']})"
      ]
     },
     "execution_count": 79,
     "metadata": {},
     "output_type": "execute_result"
    }
   ],
   "source": [
    "count_concordance(G, \"NOTCH1\")"
   ]
  },
  {
   "cell_type": "code",
   "execution_count": 80,
   "metadata": {},
   "outputs": [],
   "source": []
  },
  {
   "cell_type": "code",
   "execution_count": 80,
   "metadata": {},
   "outputs": [],
   "source": [
    "\n",
    "\"\"\"\n",
    "Returns a dictionary of the nodes of the graph with their according\n",
    "     - shortest path nodes\n",
    "     - concordant nodes\n",
    "     - non-concordant nodes\n",
    "     - no change nodes\n",
    "\n",
    "Input:\n",
    "    - graph\n",
    "\n",
    "Output:\n",
    "    - dictionary of nodes \n",
    "\"\"\"\n",
    "def nodes_dictionary(graph):\n",
    "    dic = {}\n",
    "    for node in graph.nodes():\n",
    "        dic[node] = {}\n",
    "\n",
    "        # concordant, non-concordant and no change nodes\n",
    "        dic[node] = count_concordance(graph, node)\n",
    "\n",
    "        # shortest path nodes\n",
    "        dic[node]['shortest_path'] = list(shortest_path(graph, node).keys())\n",
    "\n",
    "    return dic\n"
   ]
  },
  {
   "cell_type": "code",
   "execution_count": 81,
   "metadata": {},
   "outputs": [
    {
     "data": {
      "text/plain": [
       "defaultdict(list,\n",
       "            {'no change': ['CCNC',\n",
       "              'CDK8',\n",
       "              'MAML1',\n",
       "              'MAML3',\n",
       "              'RBPJ',\n",
       "              'SNW1',\n",
       "              'HES1',\n",
       "              'HEY1',\n",
       "              'HEYL',\n",
       "              'RBX1',\n",
       "              'RPS27A',\n",
       "              'UBB',\n",
       "              'TBL1X',\n",
       "              'TLE3'],\n",
       "             'shortest_path': ['CCNC',\n",
       "              'CDK8',\n",
       "              'CREBBP',\n",
       "              'EP300',\n",
       "              'KAT2A',\n",
       "              'KAT2B',\n",
       "              'MAML1',\n",
       "              'MAML2',\n",
       "              'MAML3',\n",
       "              'MAMLD1',\n",
       "              'NOTCH1',\n",
       "              'RBPJ',\n",
       "              'SNW1',\n",
       "              'HES1',\n",
       "              'HES5',\n",
       "              'HEY1',\n",
       "              'HEY2',\n",
       "              'HEYL',\n",
       "              'MYC',\n",
       "              'RBX1',\n",
       "              'RPS27A',\n",
       "              'SKP1',\n",
       "              'UBA52',\n",
       "              'UBB',\n",
       "              'UBC',\n",
       "              'TBL1XR1',\n",
       "              'TBL1X',\n",
       "              'TLE1',\n",
       "              'TLE2',\n",
       "              'TLE3',\n",
       "              'TLE4']})"
      ]
     },
     "execution_count": 81,
     "metadata": {},
     "output_type": "execute_result"
    }
   ],
   "source": [
    "nodes_dictionary(G)['CCNC']"
   ]
  },
  {
   "cell_type": "code",
   "execution_count": 82,
   "metadata": {},
   "outputs": [],
   "source": [
    "\"\"\"\n",
    "Calculates the concordance for an upstream node with its downstream nodes\n",
    "Probability of getting at least the number of state changes consistent\n",
    "with the direction\n",
    "Input:\n",
    "    - graph\n",
    "    - p : probability of achieving a result\n",
    "\n",
    "Output:\n",
    "    - dictionary of p-values and corrected p-values for concordance\n",
    "\"\"\"\n",
    "def calculate_concordance(graph):\n",
    "    concordance_dic = {}\n",
    "\n",
    "    #assert 0 <= p and p <= 1, \"p must be within [0,1]\"\n",
    "\n",
    "    for hyp_node in graph.nodes():\n",
    "        \n",
    "        if hyp_node not in graph.nodes():\n",
    "            raise ValueError(f\"The node {hyp_node} is not in the graph.\")\n",
    "        \n",
    "        # n is number of trials\n",
    "        n = len(shortest_path(graph, hyp_node).keys())\n",
    "        # k is number of successful predictions\n",
    "        k = len(count_concordance(graph, hyp_node)['concordant'])\n",
    "\n",
    "        bin_coeff = special.binom(n, k)\n",
    "        concordance = bin_coeff * (0.5 ** k) * (1 - 0.5) ** (n - k)\n",
    "        concordance_dic[hyp_node] = {}\n",
    "        concordance_dic[hyp_node]['p_val'] = concordance\n",
    "\n",
    "    # correction for multiple testing\n",
    "    pval_list = [concordance_dic[hyp_node]['p_val'] for hyp_node in graph.nodes()]\n",
    "    reject, pvals_corrected = multitest.multipletests(pval_list,alpha=0.05,method='bonferroni')[:2]\n",
    "    corrected_concordance_dic = {}\n",
    "    for node, pval in zip(graph.nodes(),pvals_corrected):\n",
    "        concordance_dic[node]['p_val_corrected'] = pval\n",
    "\n",
    "    return concordance_dic"
   ]
  },
  {
   "cell_type": "code",
   "execution_count": 83,
   "metadata": {},
   "outputs": [
    {
     "data": {
      "text/plain": [
       "{'CCNC': {'p_val': 4.656612873077393e-10,\n",
       "  'p_val_corrected': 2.1886080503463745e-08},\n",
       " 'CDK8': {'p_val': 9.313225746154785e-10,\n",
       "  'p_val_corrected': 4.377216100692749e-08},\n",
       " 'CREBBP': {'p_val': 1.862645149230957e-09,\n",
       "  'p_val_corrected': 8.754432201385498e-08},\n",
       " 'EP300': {'p_val': 3.725290298461914e-09,\n",
       "  'p_val_corrected': 1.7508864402770996e-07},\n",
       " 'KAT2A': {'p_val': 0.06285522133111954, 'p_val_corrected': 1.0},\n",
       " 'KAT2B': {'p_val': 0.06285522133111954, 'p_val_corrected': 1.0},\n",
       " 'MAML1': {'p_val': 7.450580596923828e-09,\n",
       "  'p_val_corrected': 3.501772880554199e-07},\n",
       " 'MAML2': {'p_val': 0.14944598078727722, 'p_val_corrected': 1.0},\n",
       " 'MAML3': {'p_val': 7.450580596923828e-09,\n",
       "  'p_val_corrected': 3.501772880554199e-07},\n",
       " 'MAMLD1': {'p_val': 0.14944598078727722, 'p_val_corrected': 1.0},\n",
       " 'NOTCH1': {'p_val': 0.0971398875117302, 'p_val_corrected': 1.0},\n",
       " 'RBPJ': {'p_val': 7.450580596923828e-09,\n",
       "  'p_val_corrected': 3.501772880554199e-07},\n",
       " 'SNW1': {'p_val': 7.450580596923828e-09,\n",
       "  'p_val_corrected': 3.501772880554199e-07},\n",
       " 'HES1': {'p_val': 7.450580596923828e-09,\n",
       "  'p_val_corrected': 3.501772880554199e-07},\n",
       " 'HES5': {'p_val': 0.016540847718715668,\n",
       "  'p_val_corrected': 0.7774198427796364},\n",
       " 'HEY1': {'p_val': 7.450580596923828e-09,\n",
       "  'p_val_corrected': 3.501772880554199e-07},\n",
       " 'HEY2': {'p_val': 0.016540847718715668,\n",
       "  'p_val_corrected': 0.7774198427796364},\n",
       " 'HEYL': {'p_val': 7.450580596923828e-09,\n",
       "  'p_val_corrected': 3.501772880554199e-07},\n",
       " 'MYC': {'p_val': 0.12951985001564026, 'p_val_corrected': 1.0},\n",
       " 'CUL1': {'p_val': 0.12640639208257198, 'p_val_corrected': 1.0},\n",
       " 'FBXW7': {'p_val': 3.725290298461914e-09,\n",
       "  'p_val_corrected': 1.7508864402770996e-07},\n",
       " 'RBX1': {'p_val': 0.25, 'p_val_corrected': 1.0},\n",
       " 'SKP1': {'p_val': 0.5, 'p_val_corrected': 1.0},\n",
       " 'HDAC10': {'p_val': 0.0018959864974021912,\n",
       "  'p_val_corrected': 0.08911136537790298},\n",
       " 'NCOR1': {'p_val': 0.0003661215305328369,\n",
       "  'p_val_corrected': 0.017207711935043335},\n",
       " 'NCOR2': {'p_val': 3.725290298461914e-09,\n",
       "  'p_val_corrected': 1.7508864402770996e-07},\n",
       " 'TBL1XR1': {'p_val': 0.5, 'p_val_corrected': 1.0},\n",
       " 'TBL1X': {'p_val': 0.5, 'p_val_corrected': 1.0},\n",
       " 'HDAC11': {'p_val': 0.0018959864974021912,\n",
       "  'p_val_corrected': 0.08911136537790298},\n",
       " 'HDAC1': {'p_val': 0.0018959864974021912,\n",
       "  'p_val_corrected': 0.08911136537790298},\n",
       " 'HDAC2': {'p_val': 0.0018959864974021912,\n",
       "  'p_val_corrected': 0.08911136537790298},\n",
       " 'HDAC3': {'p_val': 9.313225746154785e-10,\n",
       "  'p_val_corrected': 4.377216100692749e-08},\n",
       " 'HDAC4': {'p_val': 0.0018959864974021912,\n",
       "  'p_val_corrected': 0.08911136537790298},\n",
       " 'HDAC5': {'p_val': 0.0018959864974021912,\n",
       "  'p_val_corrected': 0.08911136537790298},\n",
       " 'HDAC6': {'p_val': 0.0018959864974021912,\n",
       "  'p_val_corrected': 0.08911136537790298},\n",
       " 'HDAC7': {'p_val': 0.0018959864974021912,\n",
       "  'p_val_corrected': 0.08911136537790298},\n",
       " 'HDAC8': {'p_val': 9.313225746154785e-10,\n",
       "  'p_val_corrected': 4.377216100692749e-08},\n",
       " 'HDAC9': {'p_val': 0.0018959864974021912,\n",
       "  'p_val_corrected': 0.08911136537790298},\n",
       " 'TLE1': {'p_val': 0.5, 'p_val_corrected': 1.0},\n",
       " 'TLE2': {'p_val': 0.5, 'p_val_corrected': 1.0},\n",
       " 'TLE3': {'p_val': 0.5, 'p_val_corrected': 1.0},\n",
       " 'TLE4': {'p_val': 0.5, 'p_val_corrected': 1.0},\n",
       " 'HIF1A': {'p_val': 3.725290298461914e-09,\n",
       "  'p_val_corrected': 1.7508864402770996e-07},\n",
       " 'RPS27A': {'p_val': 0.5, 'p_val_corrected': 1.0},\n",
       " 'UBA52': {'p_val': 0.5, 'p_val_corrected': 1.0},\n",
       " 'UBB': {'p_val': 0.5, 'p_val_corrected': 1.0},\n",
       " 'UBC': {'p_val': 0.5, 'p_val_corrected': 1.0}}"
      ]
     },
     "execution_count": 83,
     "metadata": {},
     "output_type": "execute_result"
    }
   ],
   "source": [
    "calculate_concordance(G)\n"
   ]
  },
  {
   "cell_type": "code",
   "execution_count": 83,
   "metadata": {},
   "outputs": [],
   "source": [
    "\"\"\"\n",
    "Writes the values for nodes, concordant_nodes, non_concordant_nodes, no_change_nodes, p_val, p_val_corrected to a csv file\n",
    "\n",
    "Input:\n",
    "- graph\n",
    "- csv_output : path for output file \n",
    "\n",
    "Output:\n",
    "- csv file\n",
    "\"\"\"\n",
    "def create_concordant_df(graph, csv_output):\n",
    "    rows = []\n",
    "    for node in graph.nodes():\n",
    "        node_dict = {}\n",
    "        node_dict['node'] = node\n",
    "        node_dict['concordant_nodes'] = len(count_concordance(graph, node)['concordant'])\n",
    "        node_dict['non_concordant_nodes'] = len(count_concordance(graph, node)['non-concordant'])\n",
    "        node_dict['no_change'] = len(count_concordance(graph, node)['no change'])\n",
    "        node_dict['p_val'] = calculate_concordance(graph)[node]['p_val']\n",
    "        node_dict['p_val_corrected'] = calculate_concordance(graph)[node]['p_val_corrected']\n",
    "        \n",
    "        rows.append(node_dict)\n",
    "        \n",
    "    df_ = pd.DataFrame(rows)\n",
    "    \n",
    "    df_.to_csv(csv_output)\n",
    "        \n",
    "\n",
    "        \n",
    "        "
   ]
  },
  {
   "cell_type": "code",
   "execution_count": 84,
   "metadata": {},
   "outputs": [
    {
     "ename": "NameError",
     "evalue": "name 'count_concordance' is not defined",
     "output_type": "error",
     "traceback": [
      "\u001b[0;31m---------------------------------------------------------------------------\u001b[0m",
      "\u001b[0;31mNameError\u001b[0m                                 Traceback (most recent call last)",
      "\u001b[0;32m<ipython-input-84-710cca78eb54>\u001b[0m in \u001b[0;36m<module>\u001b[0;34m\u001b[0m\n\u001b[0;32m----> 1\u001b[0;31m \u001b[0mcreate_concordant_df\u001b[0m\u001b[0;34m(\u001b[0m\u001b[0mG\u001b[0m\u001b[0;34m,\u001b[0m \u001b[0;34m\"/Users/sophiakrix/Desktop/Concordance_test.csv\"\u001b[0m\u001b[0;34m)\u001b[0m\u001b[0;34m\u001b[0m\u001b[0;34m\u001b[0m\u001b[0m\n\u001b[0m",
      "\u001b[0;32m<ipython-input-83-57c5cf6e3e80>\u001b[0m in \u001b[0;36mcreate_concordant_df\u001b[0;34m(graph, csv_output)\u001b[0m\n\u001b[1;32m     14\u001b[0m         \u001b[0mnode_dict\u001b[0m \u001b[0;34m=\u001b[0m \u001b[0;34m{\u001b[0m\u001b[0;34m}\u001b[0m\u001b[0;34m\u001b[0m\u001b[0;34m\u001b[0m\u001b[0m\n\u001b[1;32m     15\u001b[0m         \u001b[0mnode_dict\u001b[0m\u001b[0;34m[\u001b[0m\u001b[0;34m'node'\u001b[0m\u001b[0;34m]\u001b[0m \u001b[0;34m=\u001b[0m \u001b[0mnode\u001b[0m\u001b[0;34m\u001b[0m\u001b[0;34m\u001b[0m\u001b[0m\n\u001b[0;32m---> 16\u001b[0;31m         \u001b[0mnode_dict\u001b[0m\u001b[0;34m[\u001b[0m\u001b[0;34m'concordant_nodes'\u001b[0m\u001b[0;34m]\u001b[0m \u001b[0;34m=\u001b[0m \u001b[0mlen\u001b[0m\u001b[0;34m(\u001b[0m\u001b[0mcount_concordance\u001b[0m\u001b[0;34m(\u001b[0m\u001b[0mgraph\u001b[0m\u001b[0;34m,\u001b[0m \u001b[0mnode\u001b[0m\u001b[0;34m)\u001b[0m\u001b[0;34m[\u001b[0m\u001b[0;34m'concordant'\u001b[0m\u001b[0;34m]\u001b[0m\u001b[0;34m)\u001b[0m\u001b[0;34m\u001b[0m\u001b[0;34m\u001b[0m\u001b[0m\n\u001b[0m\u001b[1;32m     17\u001b[0m         \u001b[0mnode_dict\u001b[0m\u001b[0;34m[\u001b[0m\u001b[0;34m'non_concordant_nodes'\u001b[0m\u001b[0;34m]\u001b[0m \u001b[0;34m=\u001b[0m \u001b[0mlen\u001b[0m\u001b[0;34m(\u001b[0m\u001b[0mcount_concordance\u001b[0m\u001b[0;34m(\u001b[0m\u001b[0mgraph\u001b[0m\u001b[0;34m,\u001b[0m \u001b[0mnode\u001b[0m\u001b[0;34m)\u001b[0m\u001b[0;34m[\u001b[0m\u001b[0;34m'non-concordant'\u001b[0m\u001b[0;34m]\u001b[0m\u001b[0;34m)\u001b[0m\u001b[0;34m\u001b[0m\u001b[0;34m\u001b[0m\u001b[0m\n\u001b[1;32m     18\u001b[0m         \u001b[0mnode_dict\u001b[0m\u001b[0;34m[\u001b[0m\u001b[0;34m'no_change'\u001b[0m\u001b[0;34m]\u001b[0m \u001b[0;34m=\u001b[0m \u001b[0mlen\u001b[0m\u001b[0;34m(\u001b[0m\u001b[0mcount_concordance\u001b[0m\u001b[0;34m(\u001b[0m\u001b[0mgraph\u001b[0m\u001b[0;34m,\u001b[0m \u001b[0mnode\u001b[0m\u001b[0;34m)\u001b[0m\u001b[0;34m[\u001b[0m\u001b[0;34m'no change'\u001b[0m\u001b[0;34m]\u001b[0m\u001b[0;34m)\u001b[0m\u001b[0;34m\u001b[0m\u001b[0;34m\u001b[0m\u001b[0m\n",
      "\u001b[0;31mNameError\u001b[0m: name 'count_concordance' is not defined"
     ]
    }
   ],
   "source": [
    "create_concordant_df(G, \"/Users/sophiakrix/Desktop/Concordance_test.csv\")"
   ]
  },
  {
   "cell_type": "code",
   "execution_count": 85,
   "metadata": {},
   "outputs": [
    {
     "name": "stdout",
     "output_type": "stream",
     "text": [
      "Here: /Users/sophiakrix/git/MechanismEnrichmentLab\n",
      "/Users/sophiakrix/git/MechanismEnrichmentLab/data/example_dgxp.txt\n"
     ]
    }
   ],
   "source": [
    "import os.path\n",
    "import pandas as pd\n",
    "\n",
    "print('Here:',os.path.abspath(os.path.dirname(\"__file__\")))\n",
    "\n",
    "try:\n",
    "    dgxp_file = os.path.join(os.path.abspath(os.path.dirname(\"__file__\")),'data', 'example_dgxp.txt')\n",
    "except NameError:  # We are the main py2exe script, not a module\n",
    "    import sys\n",
    "    dgxp_file = os.path.join(os.path.abspath(os.path.dirname(sys.argv[0])),'data', 'example_dgxp.txt')\n",
    "\n",
    "#dgxp_file = os.path.join(os.path.abspath(os.path.dirname(os.path.dirname(os.path.dirname(__file__)))),'data', 'example_dgxp.txt')\n",
    "print(dgxp_file)\n",
    "df = pd.read_csv(dgxp_file, sep='\\t')"
   ]
  },
  {
   "cell_type": "code",
   "execution_count": 86,
   "metadata": {},
   "outputs": [
    {
     "data": {
      "text/html": [
       "<div>\n",
       "<style scoped>\n",
       "    .dataframe tbody tr th:only-of-type {\n",
       "        vertical-align: middle;\n",
       "    }\n",
       "\n",
       "    .dataframe tbody tr th {\n",
       "        vertical-align: top;\n",
       "    }\n",
       "\n",
       "    .dataframe thead th {\n",
       "        text-align: right;\n",
       "    }\n",
       "</style>\n",
       "<table border=\"1\" class=\"dataframe\">\n",
       "  <thead>\n",
       "    <tr style=\"text-align: right;\">\n",
       "      <th></th>\n",
       "      <th>ID</th>\n",
       "      <th>adj.P.Val</th>\n",
       "      <th>P.Value</th>\n",
       "      <th>t</th>\n",
       "      <th>B</th>\n",
       "      <th>logFC</th>\n",
       "      <th>Gene.symbol</th>\n",
       "      <th>Gene.title</th>\n",
       "    </tr>\n",
       "  </thead>\n",
       "  <tbody>\n",
       "    <tr>\n",
       "      <th>0</th>\n",
       "      <td>10415081</td>\n",
       "      <td>1.950000e-08</td>\n",
       "      <td>2.190000e-12</td>\n",
       "      <td>-28.259642</td>\n",
       "      <td>11.23514</td>\n",
       "      <td>-5.81675</td>\n",
       "      <td>NaN</td>\n",
       "      <td>NaN</td>\n",
       "    </tr>\n",
       "    <tr>\n",
       "      <th>1</th>\n",
       "      <td>10520121</td>\n",
       "      <td>1.950000e-08</td>\n",
       "      <td>2.190000e-12</td>\n",
       "      <td>-28.259642</td>\n",
       "      <td>11.23514</td>\n",
       "      <td>-5.81675</td>\n",
       "      <td>NaN</td>\n",
       "      <td>NaN</td>\n",
       "    </tr>\n",
       "    <tr>\n",
       "      <th>2</th>\n",
       "      <td>10578405</td>\n",
       "      <td>1.950000e-08</td>\n",
       "      <td>2.190000e-12</td>\n",
       "      <td>-28.259642</td>\n",
       "      <td>11.23514</td>\n",
       "      <td>-5.81675</td>\n",
       "      <td>NaN</td>\n",
       "      <td>NaN</td>\n",
       "    </tr>\n",
       "    <tr>\n",
       "      <th>3</th>\n",
       "      <td>10586076</td>\n",
       "      <td>1.950000e-08</td>\n",
       "      <td>2.190000e-12</td>\n",
       "      <td>-28.259642</td>\n",
       "      <td>11.23514</td>\n",
       "      <td>-5.81675</td>\n",
       "      <td>NaN</td>\n",
       "      <td>NaN</td>\n",
       "    </tr>\n",
       "    <tr>\n",
       "      <th>4</th>\n",
       "      <td>10569972</td>\n",
       "      <td>4.050000e-04</td>\n",
       "      <td>6.780000e-08</td>\n",
       "      <td>-11.595062</td>\n",
       "      <td>7.06249</td>\n",
       "      <td>-1.53425</td>\n",
       "      <td>Cers4</td>\n",
       "      <td>ceramide synthase 4</td>\n",
       "    </tr>\n",
       "  </tbody>\n",
       "</table>\n",
       "</div>"
      ],
      "text/plain": [
       "         ID     adj.P.Val       P.Value          t         B    logFC  \\\n",
       "0  10415081  1.950000e-08  2.190000e-12 -28.259642  11.23514 -5.81675   \n",
       "1  10520121  1.950000e-08  2.190000e-12 -28.259642  11.23514 -5.81675   \n",
       "2  10578405  1.950000e-08  2.190000e-12 -28.259642  11.23514 -5.81675   \n",
       "3  10586076  1.950000e-08  2.190000e-12 -28.259642  11.23514 -5.81675   \n",
       "4  10569972  4.050000e-04  6.780000e-08 -11.595062   7.06249 -1.53425   \n",
       "\n",
       "  Gene.symbol           Gene.title  \n",
       "0         NaN                  NaN  \n",
       "1         NaN                  NaN  \n",
       "2         NaN                  NaN  \n",
       "3         NaN                  NaN  \n",
       "4       Cers4  ceramide synthase 4  "
      ]
     },
     "execution_count": 86,
     "metadata": {},
     "output_type": "execute_result"
    }
   ],
   "source": [
    "df.head()"
   ]
  },
  {
   "cell_type": "code",
   "execution_count": 87,
   "metadata": {},
   "outputs": [],
   "source": [
    "df_dgxp = df[['Gene.symbol', 'logFC', 'adj.P.Val']].copy()"
   ]
  },
  {
   "cell_type": "code",
   "execution_count": 88,
   "metadata": {},
   "outputs": [],
   "source": [
    "df_dgxp.columns = [\"gene\", \"fold-change\", \"p-value\"]"
   ]
  },
  {
   "cell_type": "code",
   "execution_count": 89,
   "metadata": {},
   "outputs": [
    {
     "data": {
      "text/html": [
       "<div>\n",
       "<style scoped>\n",
       "    .dataframe tbody tr th:only-of-type {\n",
       "        vertical-align: middle;\n",
       "    }\n",
       "\n",
       "    .dataframe tbody tr th {\n",
       "        vertical-align: top;\n",
       "    }\n",
       "\n",
       "    .dataframe thead th {\n",
       "        text-align: right;\n",
       "    }\n",
       "</style>\n",
       "<table border=\"1\" class=\"dataframe\">\n",
       "  <thead>\n",
       "    <tr style=\"text-align: right;\">\n",
       "      <th></th>\n",
       "      <th>gene</th>\n",
       "      <th>fold-change</th>\n",
       "      <th>p-value</th>\n",
       "    </tr>\n",
       "  </thead>\n",
       "  <tbody>\n",
       "    <tr>\n",
       "      <th>0</th>\n",
       "      <td>NaN</td>\n",
       "      <td>-5.81675</td>\n",
       "      <td>1.950000e-08</td>\n",
       "    </tr>\n",
       "    <tr>\n",
       "      <th>1</th>\n",
       "      <td>NaN</td>\n",
       "      <td>-5.81675</td>\n",
       "      <td>1.950000e-08</td>\n",
       "    </tr>\n",
       "    <tr>\n",
       "      <th>2</th>\n",
       "      <td>NaN</td>\n",
       "      <td>-5.81675</td>\n",
       "      <td>1.950000e-08</td>\n",
       "    </tr>\n",
       "    <tr>\n",
       "      <th>3</th>\n",
       "      <td>NaN</td>\n",
       "      <td>-5.81675</td>\n",
       "      <td>1.950000e-08</td>\n",
       "    </tr>\n",
       "    <tr>\n",
       "      <th>4</th>\n",
       "      <td>Cers4</td>\n",
       "      <td>-1.53425</td>\n",
       "      <td>4.050000e-04</td>\n",
       "    </tr>\n",
       "  </tbody>\n",
       "</table>\n",
       "</div>"
      ],
      "text/plain": [
       "    gene  fold-change       p-value\n",
       "0    NaN     -5.81675  1.950000e-08\n",
       "1    NaN     -5.81675  1.950000e-08\n",
       "2    NaN     -5.81675  1.950000e-08\n",
       "3    NaN     -5.81675  1.950000e-08\n",
       "4  Cers4     -1.53425  4.050000e-04"
      ]
     },
     "execution_count": 89,
     "metadata": {},
     "output_type": "execute_result"
    }
   ],
   "source": [
    "df_dgxp.head()"
   ]
  },
  {
   "cell_type": "code",
   "execution_count": 90,
   "metadata": {},
   "outputs": [],
   "source": [
    "df_dgxp = df_dgxp.dropna()"
   ]
  },
  {
   "cell_type": "code",
   "execution_count": 91,
   "metadata": {},
   "outputs": [
    {
     "data": {
      "text/html": [
       "<div>\n",
       "<style scoped>\n",
       "    .dataframe tbody tr th:only-of-type {\n",
       "        vertical-align: middle;\n",
       "    }\n",
       "\n",
       "    .dataframe tbody tr th {\n",
       "        vertical-align: top;\n",
       "    }\n",
       "\n",
       "    .dataframe thead th {\n",
       "        text-align: right;\n",
       "    }\n",
       "</style>\n",
       "<table border=\"1\" class=\"dataframe\">\n",
       "  <thead>\n",
       "    <tr style=\"text-align: right;\">\n",
       "      <th></th>\n",
       "      <th>gene</th>\n",
       "      <th>fold-change</th>\n",
       "      <th>p-value</th>\n",
       "    </tr>\n",
       "  </thead>\n",
       "  <tbody>\n",
       "    <tr>\n",
       "      <th>4</th>\n",
       "      <td>Cers4</td>\n",
       "      <td>-1.534250</td>\n",
       "      <td>0.000405</td>\n",
       "    </tr>\n",
       "    <tr>\n",
       "      <th>6</th>\n",
       "      <td>Gdpd3</td>\n",
       "      <td>-2.085020</td>\n",
       "      <td>0.000427</td>\n",
       "    </tr>\n",
       "    <tr>\n",
       "      <th>7</th>\n",
       "      <td>Wdfy1</td>\n",
       "      <td>-1.354708</td>\n",
       "      <td>0.001280</td>\n",
       "    </tr>\n",
       "    <tr>\n",
       "      <th>8</th>\n",
       "      <td>Igkv4-59///Igkv4-77///Igkv4-70///Igkv4-72///Ig...</td>\n",
       "      <td>-1.654181</td>\n",
       "      <td>0.001800</td>\n",
       "    </tr>\n",
       "    <tr>\n",
       "      <th>9</th>\n",
       "      <td>Parp3</td>\n",
       "      <td>-1.148608</td>\n",
       "      <td>0.001950</td>\n",
       "    </tr>\n",
       "  </tbody>\n",
       "</table>\n",
       "</div>"
      ],
      "text/plain": [
       "                                                gene  fold-change   p-value\n",
       "4                                              Cers4    -1.534250  0.000405\n",
       "6                                              Gdpd3    -2.085020  0.000427\n",
       "7                                              Wdfy1    -1.354708  0.001280\n",
       "8  Igkv4-59///Igkv4-77///Igkv4-70///Igkv4-72///Ig...    -1.654181  0.001800\n",
       "9                                              Parp3    -1.148608  0.001950"
      ]
     },
     "execution_count": 91,
     "metadata": {},
     "output_type": "execute_result"
    }
   ],
   "source": [
    "df_dgxp.head()"
   ]
  },
  {
   "cell_type": "code",
   "execution_count": 92,
   "metadata": {},
   "outputs": [],
   "source": [
    "df_dgxp.gene = df_dgxp['gene'].str.lower() "
   ]
  },
  {
   "cell_type": "code",
   "execution_count": 93,
   "metadata": {},
   "outputs": [
    {
     "data": {
      "text/html": [
       "<div>\n",
       "<style scoped>\n",
       "    .dataframe tbody tr th:only-of-type {\n",
       "        vertical-align: middle;\n",
       "    }\n",
       "\n",
       "    .dataframe tbody tr th {\n",
       "        vertical-align: top;\n",
       "    }\n",
       "\n",
       "    .dataframe thead th {\n",
       "        text-align: right;\n",
       "    }\n",
       "</style>\n",
       "<table border=\"1\" class=\"dataframe\">\n",
       "  <thead>\n",
       "    <tr style=\"text-align: right;\">\n",
       "      <th></th>\n",
       "      <th>gene</th>\n",
       "      <th>fold-change</th>\n",
       "      <th>p-value</th>\n",
       "    </tr>\n",
       "  </thead>\n",
       "  <tbody>\n",
       "    <tr>\n",
       "      <th>4</th>\n",
       "      <td>cers4</td>\n",
       "      <td>-1.534250</td>\n",
       "      <td>0.000405</td>\n",
       "    </tr>\n",
       "    <tr>\n",
       "      <th>6</th>\n",
       "      <td>gdpd3</td>\n",
       "      <td>-2.085020</td>\n",
       "      <td>0.000427</td>\n",
       "    </tr>\n",
       "    <tr>\n",
       "      <th>7</th>\n",
       "      <td>wdfy1</td>\n",
       "      <td>-1.354708</td>\n",
       "      <td>0.001280</td>\n",
       "    </tr>\n",
       "    <tr>\n",
       "      <th>8</th>\n",
       "      <td>igkv4-59///igkv4-77///igkv4-70///igkv4-72///ig...</td>\n",
       "      <td>-1.654181</td>\n",
       "      <td>0.001800</td>\n",
       "    </tr>\n",
       "    <tr>\n",
       "      <th>9</th>\n",
       "      <td>parp3</td>\n",
       "      <td>-1.148608</td>\n",
       "      <td>0.001950</td>\n",
       "    </tr>\n",
       "  </tbody>\n",
       "</table>\n",
       "</div>"
      ],
      "text/plain": [
       "                                                gene  fold-change   p-value\n",
       "4                                              cers4    -1.534250  0.000405\n",
       "6                                              gdpd3    -2.085020  0.000427\n",
       "7                                              wdfy1    -1.354708  0.001280\n",
       "8  igkv4-59///igkv4-77///igkv4-70///igkv4-72///ig...    -1.654181  0.001800\n",
       "9                                              parp3    -1.148608  0.001950"
      ]
     },
     "execution_count": 93,
     "metadata": {},
     "output_type": "execute_result"
    }
   ],
   "source": [
    "df_dgxp.head()"
   ]
  },
  {
   "cell_type": "code",
   "execution_count": 94,
   "metadata": {},
   "outputs": [
    {
     "name": "stderr",
     "output_type": "stream",
     "text": [
      "//anaconda3/lib/python3.7/site-packages/pandas/core/indexing.py:202: SettingWithCopyWarning: \n",
      "A value is trying to be set on a copy of a slice from a DataFrame\n",
      "\n",
      "See the caveats in the documentation: http://pandas.pydata.org/pandas-docs/stable/user_guide/indexing.html#returning-a-view-versus-a-copy\n",
      "  self._setitem_with_indexer(indexer, value)\n",
      "//anaconda3/lib/python3.7/site-packages/ipykernel_launcher.py:12: SettingWithCopyWarning: \n",
      "A value is trying to be set on a copy of a slice from a DataFrame\n",
      "\n",
      "See the caveats in the documentation: http://pandas.pydata.org/pandas-docs/stable/user_guide/indexing.html#returning-a-view-versus-a-copy\n",
      "  if sys.path[0] == '':\n",
      "//anaconda3/lib/python3.7/site-packages/ipykernel_launcher.py:13: SettingWithCopyWarning: \n",
      "A value is trying to be set on a copy of a slice from a DataFrame\n",
      "\n",
      "See the caveats in the documentation: http://pandas.pydata.org/pandas-docs/stable/user_guide/indexing.html#returning-a-view-versus-a-copy\n",
      "  del sys.path[0]\n"
     ]
    }
   ],
   "source": [
    "DGXPCOLUMNS = [\"gene\", \"fold-change\", \"p-value\"]\n",
    "threshold = 1.2\n",
    "# filter dgxp\n",
    "\n",
    "# filter nodes with p-value < 0.05\n",
    "df_dgxp_pval_filtered = df_dgxp.loc[df_dgxp[DGXPCOLUMNS[2]] < 0.05]\n",
    "\n",
    "# filter nodes with threshold (given by user)\n",
    "df_dgxp_thr_filtered = df_dgxp_pval_filtered.loc[abs(df_dgxp_pval_filtered[DGXPCOLUMNS[1]]) > threshold]\n",
    "\n",
    "# set fold change labels from float to +1 or -1\n",
    "df_dgxp_thr_filtered['fold-change'].loc[(df_dgxp_thr_filtered[DGXPCOLUMNS[1]] > 0)] = +1\n",
    "df_dgxp_thr_filtered['fold-change'].loc[(df_dgxp_thr_filtered[DGXPCOLUMNS[1]] < 0)] = -1"
   ]
  },
  {
   "cell_type": "code",
   "execution_count": 95,
   "metadata": {},
   "outputs": [
    {
     "data": {
      "text/html": [
       "<div>\n",
       "<style scoped>\n",
       "    .dataframe tbody tr th:only-of-type {\n",
       "        vertical-align: middle;\n",
       "    }\n",
       "\n",
       "    .dataframe tbody tr th {\n",
       "        vertical-align: top;\n",
       "    }\n",
       "\n",
       "    .dataframe thead th {\n",
       "        text-align: right;\n",
       "    }\n",
       "</style>\n",
       "<table border=\"1\" class=\"dataframe\">\n",
       "  <thead>\n",
       "    <tr style=\"text-align: right;\">\n",
       "      <th></th>\n",
       "      <th>gene</th>\n",
       "      <th>fold-change</th>\n",
       "      <th>p-value</th>\n",
       "    </tr>\n",
       "  </thead>\n",
       "  <tbody>\n",
       "    <tr>\n",
       "      <th>4</th>\n",
       "      <td>cers4</td>\n",
       "      <td>-1.0</td>\n",
       "      <td>0.000405</td>\n",
       "    </tr>\n",
       "    <tr>\n",
       "      <th>6</th>\n",
       "      <td>gdpd3</td>\n",
       "      <td>-1.0</td>\n",
       "      <td>0.000427</td>\n",
       "    </tr>\n",
       "    <tr>\n",
       "      <th>7</th>\n",
       "      <td>wdfy1</td>\n",
       "      <td>-1.0</td>\n",
       "      <td>0.001280</td>\n",
       "    </tr>\n",
       "    <tr>\n",
       "      <th>8</th>\n",
       "      <td>igkv4-59///igkv4-77///igkv4-70///igkv4-72///ig...</td>\n",
       "      <td>-1.0</td>\n",
       "      <td>0.001800</td>\n",
       "    </tr>\n",
       "    <tr>\n",
       "      <th>11</th>\n",
       "      <td>bcat1</td>\n",
       "      <td>1.0</td>\n",
       "      <td>0.005000</td>\n",
       "    </tr>\n",
       "    <tr>\n",
       "      <th>13</th>\n",
       "      <td>igkv4-59///igkv4-70///igkc///igkv4-59///igkv4-80</td>\n",
       "      <td>-1.0</td>\n",
       "      <td>0.009380</td>\n",
       "    </tr>\n",
       "    <tr>\n",
       "      <th>15</th>\n",
       "      <td>tnip3</td>\n",
       "      <td>-1.0</td>\n",
       "      <td>0.017300</td>\n",
       "    </tr>\n",
       "    <tr>\n",
       "      <th>26</th>\n",
       "      <td>igkv10-96</td>\n",
       "      <td>-1.0</td>\n",
       "      <td>0.042300</td>\n",
       "    </tr>\n",
       "  </tbody>\n",
       "</table>\n",
       "</div>"
      ],
      "text/plain": [
       "                                                 gene  fold-change   p-value\n",
       "4                                               cers4         -1.0  0.000405\n",
       "6                                               gdpd3         -1.0  0.000427\n",
       "7                                               wdfy1         -1.0  0.001280\n",
       "8   igkv4-59///igkv4-77///igkv4-70///igkv4-72///ig...         -1.0  0.001800\n",
       "11                                              bcat1          1.0  0.005000\n",
       "13   igkv4-59///igkv4-70///igkc///igkv4-59///igkv4-80         -1.0  0.009380\n",
       "15                                              tnip3         -1.0  0.017300\n",
       "26                                          igkv10-96         -1.0  0.042300"
      ]
     },
     "execution_count": 95,
     "metadata": {},
     "output_type": "execute_result"
    }
   ],
   "source": [
    "df_dgxp_thr_filtered"
   ]
  },
  {
   "cell_type": "code",
   "execution_count": 47,
   "metadata": {},
   "outputs": [],
   "source": [
    "COLUMNS = [\"Protein1\", \"interaction\", \"Protein2\"]\n",
    "\n",
    "ppi_file = os.path.join(os.path.abspath(os.path.dirname(\"__file__\")),'data', 'example.txt')\n",
    "\n",
    "df_ppi = pd.read_csv(ppi_file, sep='\\t', header=None)\n",
    "df_ppi.columns = [\"Protein1\", \"interaction\", \"Protein2\"]\n",
    "\n",
    "df_ppi.Protein1 = df_ppi['Protein1'].str.lower()\n",
    "df_ppi.Protein2 = df_ppi['Protein2'].str.lower()\n",
    "\n",
    "df_interactions = df_ppi.replace(\"in-complex-with\", +1)\n",
    "df_interactions = df_interactions.replace(\"controls-expression-of\", -1)\n",
    "df_interactions = df_interactions.replace(\"controls-state-change-of\", -1)\n",
    "# replace all other interaction expressions with 0\n",
    "df_interactions.loc[(df_interactions[COLUMNS[1]] != +1) & (df_interactions[COLUMNS[1]] != -1)] = 0\n"
   ]
  },
  {
   "cell_type": "code",
   "execution_count": 48,
   "metadata": {},
   "outputs": [
    {
     "data": {
      "text/html": [
       "<div>\n",
       "<style scoped>\n",
       "    .dataframe tbody tr th:only-of-type {\n",
       "        vertical-align: middle;\n",
       "    }\n",
       "\n",
       "    .dataframe tbody tr th {\n",
       "        vertical-align: top;\n",
       "    }\n",
       "\n",
       "    .dataframe thead th {\n",
       "        text-align: right;\n",
       "    }\n",
       "</style>\n",
       "<table border=\"1\" class=\"dataframe\">\n",
       "  <thead>\n",
       "    <tr style=\"text-align: right;\">\n",
       "      <th></th>\n",
       "      <th>Protein1</th>\n",
       "      <th>interaction</th>\n",
       "      <th>Protein2</th>\n",
       "    </tr>\n",
       "  </thead>\n",
       "  <tbody>\n",
       "    <tr>\n",
       "      <th>0</th>\n",
       "      <td>ccnc</td>\n",
       "      <td>1</td>\n",
       "      <td>cdk8</td>\n",
       "    </tr>\n",
       "    <tr>\n",
       "      <th>1</th>\n",
       "      <td>ccnc</td>\n",
       "      <td>1</td>\n",
       "      <td>crebbp</td>\n",
       "    </tr>\n",
       "    <tr>\n",
       "      <th>2</th>\n",
       "      <td>ccnc</td>\n",
       "      <td>1</td>\n",
       "      <td>ep300</td>\n",
       "    </tr>\n",
       "    <tr>\n",
       "      <th>3</th>\n",
       "      <td>ccnc</td>\n",
       "      <td>1</td>\n",
       "      <td>kat2a</td>\n",
       "    </tr>\n",
       "    <tr>\n",
       "      <th>4</th>\n",
       "      <td>ccnc</td>\n",
       "      <td>1</td>\n",
       "      <td>kat2b</td>\n",
       "    </tr>\n",
       "  </tbody>\n",
       "</table>\n",
       "</div>"
      ],
      "text/plain": [
       "  Protein1  interaction Protein2\n",
       "0     ccnc            1     cdk8\n",
       "1     ccnc            1   crebbp\n",
       "2     ccnc            1    ep300\n",
       "3     ccnc            1    kat2a\n",
       "4     ccnc            1    kat2b"
      ]
     },
     "execution_count": 48,
     "metadata": {},
     "output_type": "execute_result"
    }
   ],
   "source": [
    "df_interactions.head()"
   ]
  },
  {
   "cell_type": "code",
   "execution_count": 52,
   "metadata": {},
   "outputs": [],
   "source": [
    "G = nx.DiGraph()\n",
    "LABEL = 'label'\n",
    "for i in range(len(df_interactions)):\n",
    "    \n",
    "    # add nodes to graph\n",
    "    prot1 = df_interactions.loc[i, COLUMNS[0]]\n",
    "    print('prot1: ',prot1)\n",
    "    prot2 = df_interactions.loc[i, COLUMNS[2]]\n",
    "    \n",
    "    G.add_node(prot1)\n",
    "    G.add_node(prot2)\n",
    "\n",
    "    # add node attribute from dgxp file\n",
    "    if prot1 in df_dgxp['gene']:\n",
    "        G.nodes[prot1][LABEL] = df_dgxp.loc[prot1, ['fold-change']]\n",
    "    \n",
    "    # edge attributes\n",
    "    interaction = df_interactions.loc[i, COLUMNS[1]]\n",
    "    G.add_edge(prot1, prot2)\n",
    "    G[prot1][prot2]['relation'] = interaction"
   ]
  },
  {
   "cell_type": "code",
   "execution_count": null,
   "metadata": {},
   "outputs": [],
   "source": []
  }
 ],
 "metadata": {
  "kernelspec": {
   "display_name": "Python 3",
   "language": "python",
   "name": "python3"
  },
  "language_info": {
   "codemirror_mode": {
    "name": "ipython",
    "version": 3
   },
   "file_extension": ".py",
   "mimetype": "text/x-python",
   "name": "python",
   "nbconvert_exporter": "python",
   "pygments_lexer": "ipython3",
   "version": "3.7.3"
  }
 },
 "nbformat": 4,
 "nbformat_minor": 4
}
