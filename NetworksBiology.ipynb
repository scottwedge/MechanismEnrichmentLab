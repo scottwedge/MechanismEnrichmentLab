{
 "cells": [
  {
   "cell_type": "code",
   "execution_count": 229,
   "metadata": {},
   "outputs": [],
   "source": [
    "import numpy as np\n",
    "import pandas as pd\n",
    "import networkx as nx\n",
    "import matplotlib.pyplot as plt\n",
    "import random\n",
    "#from igraph import Graph\n",
    "from scipy import special"
   ]
  },
  {
   "cell_type": "code",
   "execution_count": 34,
   "metadata": {},
   "outputs": [],
   "source": [
    "path = \"/Users/sophiakrix/Desktop/MechEnrichmentLab/NOTCH1_Intracellular.txt\"\n",
    "df = pd.read_csv(path, sep = \"\\t\", header=None, names=[\"Protein1\", \"interaction\", \"Protein2\"])"
   ]
  },
  {
   "cell_type": "code",
   "execution_count": 35,
   "metadata": {},
   "outputs": [
    {
     "data": {
      "text/html": [
       "<div>\n",
       "<style scoped>\n",
       "    .dataframe tbody tr th:only-of-type {\n",
       "        vertical-align: middle;\n",
       "    }\n",
       "\n",
       "    .dataframe tbody tr th {\n",
       "        vertical-align: top;\n",
       "    }\n",
       "\n",
       "    .dataframe thead th {\n",
       "        text-align: right;\n",
       "    }\n",
       "</style>\n",
       "<table border=\"1\" class=\"dataframe\">\n",
       "  <thead>\n",
       "    <tr style=\"text-align: right;\">\n",
       "      <th></th>\n",
       "      <th>Protein1</th>\n",
       "      <th>interaction</th>\n",
       "      <th>Protein2</th>\n",
       "    </tr>\n",
       "  </thead>\n",
       "  <tbody>\n",
       "    <tr>\n",
       "      <th>0</th>\n",
       "      <td>CCNC</td>\n",
       "      <td>in-complex-with</td>\n",
       "      <td>CDK8</td>\n",
       "    </tr>\n",
       "    <tr>\n",
       "      <th>1</th>\n",
       "      <td>CCNC</td>\n",
       "      <td>in-complex-with</td>\n",
       "      <td>CREBBP</td>\n",
       "    </tr>\n",
       "    <tr>\n",
       "      <th>2</th>\n",
       "      <td>CCNC</td>\n",
       "      <td>in-complex-with</td>\n",
       "      <td>EP300</td>\n",
       "    </tr>\n",
       "    <tr>\n",
       "      <th>3</th>\n",
       "      <td>CCNC</td>\n",
       "      <td>in-complex-with</td>\n",
       "      <td>KAT2A</td>\n",
       "    </tr>\n",
       "    <tr>\n",
       "      <th>4</th>\n",
       "      <td>CCNC</td>\n",
       "      <td>in-complex-with</td>\n",
       "      <td>KAT2B</td>\n",
       "    </tr>\n",
       "  </tbody>\n",
       "</table>\n",
       "</div>"
      ],
      "text/plain": [
       "  Protein1      interaction Protein2\n",
       "0     CCNC  in-complex-with     CDK8\n",
       "1     CCNC  in-complex-with   CREBBP\n",
       "2     CCNC  in-complex-with    EP300\n",
       "3     CCNC  in-complex-with    KAT2A\n",
       "4     CCNC  in-complex-with    KAT2B"
      ]
     },
     "execution_count": 35,
     "metadata": {},
     "output_type": "execute_result"
    }
   ],
   "source": [
    "df.head()"
   ]
  },
  {
   "cell_type": "code",
   "execution_count": 36,
   "metadata": {},
   "outputs": [
    {
     "data": {
      "text/plain": [
       "Index(['Protein1', 'interaction', 'Protein2'], dtype='object')"
      ]
     },
     "execution_count": 36,
     "metadata": {},
     "output_type": "execute_result"
    }
   ],
   "source": [
    "df.columns"
   ]
  },
  {
   "cell_type": "code",
   "execution_count": 40,
   "metadata": {},
   "outputs": [
    {
     "data": {
      "text/plain": [
       "{'controls-expression-of', 'controls-state-change-of', 'in-complex-with'}"
      ]
     },
     "execution_count": 40,
     "metadata": {},
     "output_type": "execute_result"
    }
   ],
   "source": [
    "interactions_set = set(df.iloc[:,1])\n",
    "interactions_set"
   ]
  },
  {
   "cell_type": "code",
   "execution_count": 42,
   "metadata": {},
   "outputs": [
    {
     "data": {
      "text/plain": [
       "in-complex-with             234\n",
       "controls-expression-of       72\n",
       "controls-state-change-of     12\n",
       "Name: interaction, dtype: int64"
      ]
     },
     "execution_count": 42,
     "metadata": {},
     "output_type": "execute_result"
    }
   ],
   "source": [
    "interactions = df[\"interaction\"].value_counts()\n",
    "interactions"
   ]
  },
  {
   "cell_type": "code",
   "execution_count": 116,
   "metadata": {},
   "outputs": [],
   "source": [
    "df_interactions = df.replace(\"in-complex-with\", +1)\n",
    "df_interactions = df_interactions.replace(\"controls-expression-of\", -1)\n",
    "df_interactions = df_interactions.replace(\"controls-state-change-of\", -1)"
   ]
  },
  {
   "cell_type": "code",
   "execution_count": 117,
   "metadata": {},
   "outputs": [
    {
     "data": {
      "text/plain": [
       " 1    234\n",
       "-1     84\n",
       "Name: interaction, dtype: int64"
      ]
     },
     "execution_count": 117,
     "metadata": {},
     "output_type": "execute_result"
    }
   ],
   "source": [
    "df_interactions[\"interaction\"].value_counts()"
   ]
  },
  {
   "cell_type": "markdown",
   "metadata": {},
   "source": [
    "# NetworkX"
   ]
  },
  {
   "cell_type": "code",
   "execution_count": 155,
   "metadata": {},
   "outputs": [],
   "source": [
    "G = nx.DiGraph()"
   ]
  },
  {
   "cell_type": "code",
   "execution_count": 156,
   "metadata": {},
   "outputs": [
    {
     "data": {
      "text/plain": [
       "318"
      ]
     },
     "execution_count": 156,
     "metadata": {},
     "output_type": "execute_result"
    }
   ],
   "source": [
    "len(df_interactions)"
   ]
  },
  {
   "cell_type": "code",
   "execution_count": 157,
   "metadata": {},
   "outputs": [],
   "source": [
    "for i in range(len(df_interactions)):\n",
    "    prot1 = df_interactions.iloc[i,0]\n",
    "    prot2 = df_interactions.iloc[i,2]\n",
    "    interaction = df_interactions.iloc[i,1]\n",
    "    G.add_node(prot1)\n",
    "    G.add_node(prot2)\n",
    "    G.add_edge(prot1, prot2)\n",
    "    G[prot1][prot2]['relation'] = interaction"
   ]
  },
  {
   "cell_type": "code",
   "execution_count": 163,
   "metadata": {},
   "outputs": [],
   "source": [
    "for n, nbrs in G.adj.items():\n",
    "    for nbr, eattr in nbrs.items():\n",
    "        relation = eattr['relation']\n",
    "        #print(n, nbr, relation)"
   ]
  },
  {
   "cell_type": "code",
   "execution_count": 122,
   "metadata": {
    "collapsed": true,
    "jupyter": {
     "outputs_hidden": true
    }
   },
   "outputs": [
    {
     "name": "stderr",
     "output_type": "stream",
     "text": [
      "//anaconda3/lib/python3.7/site-packages/networkx/drawing/nx_pylab.py:563: MatplotlibDeprecationWarning: \n",
      "The iterable function was deprecated in Matplotlib 3.1 and will be removed in 3.3. Use np.iterable instead.\n",
      "  if not cb.iterable(width):\n",
      "//anaconda3/lib/python3.7/site-packages/networkx/drawing/nx_pylab.py:660: MatplotlibDeprecationWarning: \n",
      "The iterable function was deprecated in Matplotlib 3.1 and will be removed in 3.3. Use np.iterable instead.\n",
      "  if cb.iterable(node_size):  # many node sizes\n"
     ]
    },
    {
     "data": {
      "image/png": "[encoded data removed]",
      "text/plain": [
       "<Figure size 432x288 with 1 Axes>"
      ]
     },
     "metadata": {},
     "output_type": "display_data"
    }
   ],
   "source": [
    "plt.subplot(121)\n",
    "nx.draw(G, with_labels=True, font_weight='bold')\n",
    "#plt.subplot(122)\n",
    "#nx.draw_shell(G, nlist=[range(5, 10), range(5)], with_labels=True, font_weight='bold')"
   ]
  },
  {
   "cell_type": "code",
   "execution_count": 123,
   "metadata": {},
   "outputs": [
    {
     "name": "stdout",
     "output_type": "stream",
     "text": [
      "Number of edges:  290 \n",
      "Number of nodes:  47\n"
     ]
    }
   ],
   "source": [
    "# Nr edges and nr of nodes \n",
    "\n",
    "print(\"Number of edges: \",G.number_of_edges(),\"\\nNumber of nodes: \",G.number_of_nodes())\n"
   ]
  },
  {
   "cell_type": "markdown",
   "metadata": {},
   "source": [
    "# Algorithmic Development"
   ]
  },
  {
   "cell_type": "code",
   "execution_count": 164,
   "metadata": {},
   "outputs": [],
   "source": [
    "\"\"\"\n",
    "Randomly assigns labels of [-1,0,1] to nodes in a graph\n",
    "Labels:\n",
    "-1 : Downregulated\n",
    "0 : No change\n",
    "+1 : Upregulated\n",
    "\n",
    "Input:\n",
    "    - graph : the graph consisting of protein nodes \n",
    "\n",
    "Output:\n",
    "    - prints list of nodes with associated attribute label\n",
    "\"\"\"\n",
    "def random_node_labels(graph):\n",
    "    for node in graph.nodes():\n",
    "        random_label = random.randint(-1,1)\n",
    "        graph.nodes[node]['label'] = random_label\n",
    "    print(graph.nodes.data())"
   ]
  },
  {
   "cell_type": "code",
   "execution_count": 165,
   "metadata": {},
   "outputs": [
    {
     "name": "stdout",
     "output_type": "stream",
     "text": [
      "[('CCNC', {'label': 1}), ('CDK8', {'label': 1}), ('CREBBP', {'label': 0}), ('EP300', {'label': -1}), ('KAT2A', {'label': 0}), ('KAT2B', {'label': 0}), ('MAML1', {'label': -1}), ('MAML2', {'label': 1}), ('MAML3', {'label': 1}), ('MAMLD1', {'label': 1}), ('NOTCH1', {'label': 0}), ('RBPJ', {'label': 0}), ('SNW1', {'label': -1}), ('HES1', {'label': 1}), ('HES5', {'label': 0}), ('HEY1', {'label': 0}), ('HEY2', {'label': 0}), ('HEYL', {'label': 0}), ('MYC', {'label': -1}), ('CUL1', {'label': 1}), ('FBXW7', {'label': 1}), ('RBX1', {'label': -1}), ('SKP1', {'label': -1}), ('HDAC10', {'label': -1}), ('NCOR1', {'label': 1}), ('NCOR2', {'label': 1}), ('TBL1XR1', {'label': 0}), ('TBL1X', {'label': -1}), ('HDAC11', {'label': 0}), ('HDAC1', {'label': 0}), ('HDAC2', {'label': -1}), ('HDAC3', {'label': -1}), ('HDAC4', {'label': 1}), ('HDAC5', {'label': 1}), ('HDAC6', {'label': -1}), ('HDAC7', {'label': -1}), ('HDAC8', {'label': 0}), ('HDAC9', {'label': -1}), ('TLE1', {'label': 0}), ('TLE2', {'label': 1}), ('TLE3', {'label': 0}), ('TLE4', {'label': 1}), ('HIF1A', {'label': 1}), ('RPS27A', {'label': 1}), ('UBA52', {'label': 0}), ('UBB', {'label': 1}), ('UBC', {'label': -1})]\n"
     ]
    }
   ],
   "source": [
    "random_node_labels(G)"
   ]
  },
  {
   "cell_type": "code",
   "execution_count": 185,
   "metadata": {},
   "outputs": [],
   "source": [
    "\"\"\"\n",
    "Caclulates the shortest path between two nodes.\n",
    "\n",
    "Input:\n",
    "    - graph : NetworkX graph\n",
    "    - source : upstream source node\n",
    "\n",
    "\n",
    "Output:\n",
    "    - dictionary of shortest path nodes between source node and all other nodes in graph\n",
    "\"\"\"\n",
    "def shortest_path(graph, source):\n",
    "    for target in graph.nodes():\n",
    "        shortest_paths = nx.shortest_path(graph, source)\n",
    "    return shortest_paths"
   ]
  },
  {
   "cell_type": "code",
   "execution_count": 186,
   "metadata": {},
   "outputs": [
    {
     "data": {
      "text/plain": [
       "{'CCNC': ['CCNC'],\n",
       " 'CDK8': ['CCNC', 'CDK8'],\n",
       " 'CREBBP': ['CCNC', 'CREBBP'],\n",
       " 'EP300': ['CCNC', 'EP300'],\n",
       " 'KAT2A': ['CCNC', 'KAT2A'],\n",
       " 'KAT2B': ['CCNC', 'KAT2B'],\n",
       " 'MAML1': ['CCNC', 'MAML1'],\n",
       " 'MAML2': ['CCNC', 'MAML2'],\n",
       " 'MAML3': ['CCNC', 'MAML3'],\n",
       " 'MAMLD1': ['CCNC', 'MAMLD1'],\n",
       " 'NOTCH1': ['CCNC', 'NOTCH1'],\n",
       " 'RBPJ': ['CCNC', 'RBPJ'],\n",
       " 'SNW1': ['CCNC', 'SNW1'],\n",
       " 'HES1': ['CCNC', 'CREBBP', 'HES1'],\n",
       " 'HES5': ['CCNC', 'CREBBP', 'HES5'],\n",
       " 'HEY1': ['CCNC', 'CREBBP', 'HEY1'],\n",
       " 'HEY2': ['CCNC', 'CREBBP', 'HEY2'],\n",
       " 'HEYL': ['CCNC', 'CREBBP', 'HEYL'],\n",
       " 'MYC': ['CCNC', 'CREBBP', 'MYC'],\n",
       " 'RBX1': ['CCNC', 'NOTCH1', 'RBX1'],\n",
       " 'RPS27A': ['CCNC', 'NOTCH1', 'RPS27A'],\n",
       " 'SKP1': ['CCNC', 'NOTCH1', 'SKP1'],\n",
       " 'UBA52': ['CCNC', 'NOTCH1', 'UBA52'],\n",
       " 'UBB': ['CCNC', 'NOTCH1', 'UBB'],\n",
       " 'UBC': ['CCNC', 'NOTCH1', 'UBC'],\n",
       " 'TBL1XR1': ['CCNC', 'RBPJ', 'TBL1XR1'],\n",
       " 'TBL1X': ['CCNC', 'RBPJ', 'TBL1X'],\n",
       " 'TLE1': ['CCNC', 'CREBBP', 'HES1', 'TLE1'],\n",
       " 'TLE2': ['CCNC', 'CREBBP', 'HES1', 'TLE2'],\n",
       " 'TLE3': ['CCNC', 'CREBBP', 'HES1', 'TLE3'],\n",
       " 'TLE4': ['CCNC', 'CREBBP', 'HES1', 'TLE4']}"
      ]
     },
     "execution_count": 186,
     "metadata": {},
     "output_type": "execute_result"
    }
   ],
   "source": [
    "shortest_path(G, \"CCNC\")"
   ]
  },
  {
   "cell_type": "code",
   "execution_count": 218,
   "metadata": {},
   "outputs": [],
   "source": [
    "\"\"\"\n",
    "Check if node labels of source and target node are the same\n",
    "\n",
    "Input:\n",
    "    - graph: NetworkX graph\n",
    "    - source: source upstream node\n",
    "    \n",
    "Output:\n",
    "    - list of concordant and non-concordant nodes for the source node\n",
    "\"\"\"\n",
    "def count_concordance(graph, source):\n",
    "    \n",
    "    same_label = False\n",
    "\n",
    "    concordant_nodes = []\n",
    "    non_concordant_nodes = []\n",
    "    no_change_nodes = []\n",
    "    \n",
    "    for target, path_nodes in shortest_path(graph,source).items():\n",
    "\n",
    "        # check if node labels of source and target are the same\n",
    "        if G.nodes[source]['label'] == 1 and G.nodes[target]['label'] == 1:\n",
    "            same_label = True\n",
    "        if G.nodes[source]['label'] == -1 and G.nodes[target]['label'] == -1:\n",
    "            same_label = True\n",
    "            \n",
    "        # multiply the edge labels\n",
    "        edge_label = 1\n",
    "        for i in range(len(path_nodes)-1):\n",
    "            temp_edge_label = G[path_nodes[i]][path_nodes[i+1]]['relation']\n",
    "            edge_label *= temp_edge_label\n",
    "        \n",
    "        # concordant node\n",
    "        if same_label == True and edge_label == +1:\n",
    "            graph.nodes[target]['concordance'] = +1\n",
    "            concordant_nodes.append(target)\n",
    "        \n",
    "        # non-concordant node\n",
    "        if same_label == False and edge_label == -1:\n",
    "            graph.nodes[target]['concordance'] = -1\n",
    "            non_concordant_nodes.append(target)\n",
    "            \n",
    "        # no change node\n",
    "        if G.nodes[source]['label'] == 0 and G.nodes[target]['label'] == 0:\n",
    "            no_change_nodes.append(target)\n",
    "        \n",
    "    return concordant_nodes, non_concordant_nodes, no_change_nodes\n",
    "            "
   ]
  },
  {
   "cell_type": "code",
   "execution_count": 219,
   "metadata": {},
   "outputs": [
    {
     "data": {
      "text/plain": [
       "(['CCNC',\n",
       "  'CDK8',\n",
       "  'CREBBP',\n",
       "  'EP300',\n",
       "  'KAT2A',\n",
       "  'KAT2B',\n",
       "  'MAML1',\n",
       "  'MAML2',\n",
       "  'MAML3',\n",
       "  'MAMLD1',\n",
       "  'NOTCH1',\n",
       "  'RBPJ',\n",
       "  'SNW1',\n",
       "  'HES1',\n",
       "  'HES5',\n",
       "  'HEY1',\n",
       "  'HEY2',\n",
       "  'HEYL',\n",
       "  'MYC',\n",
       "  'RBX1',\n",
       "  'RPS27A',\n",
       "  'SKP1',\n",
       "  'UBA52',\n",
       "  'UBB',\n",
       "  'UBC',\n",
       "  'TBL1XR1',\n",
       "  'TBL1X',\n",
       "  'TLE1',\n",
       "  'TLE2',\n",
       "  'TLE3',\n",
       "  'TLE4'],\n",
       " [],\n",
       " [])"
      ]
     },
     "execution_count": 219,
     "metadata": {},
     "output_type": "execute_result"
    }
   ],
   "source": [
    "count_concordance(G, \"CCNC\")"
   ]
  },
  {
   "cell_type": "code",
   "execution_count": null,
   "metadata": {},
   "outputs": [],
   "source": []
  },
  {
   "cell_type": "code",
   "execution_count": 223,
   "metadata": {},
   "outputs": [],
   "source": [
    "\"\"\"\n",
    "Returns a dictionary of the nodes of the graph with their according\n",
    "     - shortest path nodes\n",
    "     - concordant nodes\n",
    "     - non-concordant nodes\n",
    "     - no change nodes\n",
    "     \n",
    "Input:\n",
    "    - graph\n",
    "    \n",
    "Output:\n",
    "    - dictionary of nodes \n",
    "\"\"\"\n",
    "def nodes_dictionary(graph):\n",
    "    dic = {}\n",
    "    for node in graph.nodes():\n",
    "        dic[node] = {}\n",
    "        \n",
    "        # shortest path nodes\n",
    "        dic[node]['shortest_path'] = list(shortest_path(graph,node).keys())\n",
    "        \n",
    "        # concordant nodes\n",
    "        dic[node]['concordant'] = count_concordance(graph, node)[0]\n",
    "        \n",
    "        # non-concordant nodes\n",
    "        dic[node]['non-concordant'] = count_concordance(graph, node)[1]\n",
    "        \n",
    "        # no change nodes\n",
    "        dic[node]['no change'] = count_concordance(graph, node)[2]\n",
    "    \n",
    "    return dic"
   ]
  },
  {
   "cell_type": "code",
   "execution_count": 224,
   "metadata": {},
   "outputs": [
    {
     "data": {
      "text/plain": [
       "{'shortest_path': ['CCNC',\n",
       "  'CDK8',\n",
       "  'CREBBP',\n",
       "  'EP300',\n",
       "  'KAT2A',\n",
       "  'KAT2B',\n",
       "  'MAML1',\n",
       "  'MAML2',\n",
       "  'MAML3',\n",
       "  'MAMLD1',\n",
       "  'NOTCH1',\n",
       "  'RBPJ',\n",
       "  'SNW1',\n",
       "  'HES1',\n",
       "  'HES5',\n",
       "  'HEY1',\n",
       "  'HEY2',\n",
       "  'HEYL',\n",
       "  'MYC',\n",
       "  'RBX1',\n",
       "  'RPS27A',\n",
       "  'SKP1',\n",
       "  'UBA52',\n",
       "  'UBB',\n",
       "  'UBC',\n",
       "  'TBL1XR1',\n",
       "  'TBL1X',\n",
       "  'TLE1',\n",
       "  'TLE2',\n",
       "  'TLE3',\n",
       "  'TLE4'],\n",
       " 'concordant': ['CCNC',\n",
       "  'CDK8',\n",
       "  'CREBBP',\n",
       "  'EP300',\n",
       "  'KAT2A',\n",
       "  'KAT2B',\n",
       "  'MAML1',\n",
       "  'MAML2',\n",
       "  'MAML3',\n",
       "  'MAMLD1',\n",
       "  'NOTCH1',\n",
       "  'RBPJ',\n",
       "  'SNW1',\n",
       "  'HES1',\n",
       "  'HES5',\n",
       "  'HEY1',\n",
       "  'HEY2',\n",
       "  'HEYL',\n",
       "  'MYC',\n",
       "  'RBX1',\n",
       "  'RPS27A',\n",
       "  'SKP1',\n",
       "  'UBA52',\n",
       "  'UBB',\n",
       "  'UBC',\n",
       "  'TBL1XR1',\n",
       "  'TBL1X',\n",
       "  'TLE1',\n",
       "  'TLE2',\n",
       "  'TLE3',\n",
       "  'TLE4'],\n",
       " 'non-concordant': [],\n",
       " 'no change': []}"
      ]
     },
     "execution_count": 224,
     "metadata": {},
     "output_type": "execute_result"
    }
   ],
   "source": [
    "nodes_dictionary(G)['CCNC']"
   ]
  },
  {
   "cell_type": "code",
   "execution_count": 247,
   "metadata": {},
   "outputs": [],
   "source": [
    "\"\"\"\n",
    "Calculates the concordance for an upstream node with its downstream nodes\n",
    "Probability of getting at least the number of state changes consistent\n",
    "with the direction\n",
    "Input:\n",
    "    - graph\n",
    "    - hyp_node : the node considered as the upstream node\n",
    "    - p : probability of achieving a result\n",
    "    \n",
    "Output:\n",
    "    - p-value for concordance\n",
    "\"\"\"\n",
    "def calculate_concordance(graph, hyp_node, p):\n",
    "    concordance_dic = {}\n",
    "    concordance = 0\n",
    "    assert 0 <= p and p <= 1, \"p must be within [0,1]\"\n",
    "    if hyp_node not in graph.nodes():\n",
    "        raise ValueError(\"The node \"+hyp_node+\" is not in the graph.\")\n",
    "    for hyp_node in graph.nodes():\n",
    "        shortest_path_nodes = len(list(shortest_path(graph,hyp_node).keys()))\n",
    "        concordant_nodes = len(count_concordance(graph,hyp_node)[0])\n",
    "        bin_coeff = special.binom(shortest_path_nodes, concordant_nodes)\n",
    "        concordance = bin_coeff*(p**concordant_nodes)*(1-p)**(shortest_path_nodes-concordant_nodes)\n",
    "        concordance_dic[hyp_node] = concordance\n",
    "    return concordance_dic"
   ]
  },
  {
   "cell_type": "code",
   "execution_count": 248,
   "metadata": {},
   "outputs": [
    {
     "data": {
      "text/plain": [
       "{'CCNC': 4.656612873077393e-10,\n",
       " 'CDK8': 9.313225746154785e-10,\n",
       " 'CREBBP': 1.862645149230957e-09,\n",
       " 'EP300': 3.725290298461914e-09,\n",
       " 'KAT2A': 7.450580596923828e-09,\n",
       " 'KAT2B': 7.450580596923828e-09,\n",
       " 'MAML1': 0.14944598078727722,\n",
       " 'MAML2': 0.14944598078727722,\n",
       " 'MAML3': 0.14944598078727722,\n",
       " 'MAMLD1': 0.14944598078727722,\n",
       " 'NOTCH1': 7.450580596923828e-09,\n",
       " 'RBPJ': 7.450580596923828e-09,\n",
       " 'SNW1': 2.1792948246002197e-05,\n",
       " 'HES1': 0.00013075768947601318,\n",
       " 'HES5': 7.450580596923828e-09,\n",
       " 'HEY1': 7.450580596923828e-09,\n",
       " 'HEY2': 7.450580596923828e-09,\n",
       " 'HEYL': 7.450580596923828e-09,\n",
       " 'MYC': 0.12951985001564026,\n",
       " 'CUL1': 0.12640639208257198,\n",
       " 'FBXW7': 0.11332986876368523,\n",
       " 'RBX1': 0.25,\n",
       " 'SKP1': 0.5,\n",
       " 'HDAC10': 0.0018959864974021912,\n",
       " 'NCOR1': 0.0003661215305328369,\n",
       " 'NCOR2': 0.0003661215305328369,\n",
       " 'TBL1XR1': 0.5,\n",
       " 'TBL1X': 0.5,\n",
       " 'HDAC11': 9.313225746154785e-10,\n",
       " 'HDAC1': 9.313225746154785e-10,\n",
       " 'HDAC2': 0.0018959864974021912,\n",
       " 'HDAC3': 0.0018959864974021912,\n",
       " 'HDAC4': 0.0018959864974021912,\n",
       " 'HDAC5': 0.0018959864974021912,\n",
       " 'HDAC6': 0.0018959864974021912,\n",
       " 'HDAC7': 0.0018959864974021912,\n",
       " 'HDAC8': 9.313225746154785e-10,\n",
       " 'HDAC9': 0.0018959864974021912,\n",
       " 'TLE1': 0.5,\n",
       " 'TLE2': 0.5,\n",
       " 'TLE3': 0.5,\n",
       " 'TLE4': 0.5,\n",
       " 'HIF1A': 0.11332986876368523,\n",
       " 'RPS27A': 0.5,\n",
       " 'UBA52': 0.5,\n",
       " 'UBB': 0.5,\n",
       " 'UBC': 0.5}"
      ]
     },
     "execution_count": 248,
     "metadata": {},
     "output_type": "execute_result"
    }
   ],
   "source": [
    "calculate_concordance(G, 'NOTCH1', 0.5)\n"
   ]
  },
  {
   "cell_type": "code",
   "execution_count": null,
   "metadata": {},
   "outputs": [],
   "source": []
  }
 ],
 "metadata": {
  "kernelspec": {
   "display_name": "Python 3",
   "language": "python",
   "name": "python3"
  },
  "language_info": {
   "codemirror_mode": {
    "name": "ipython",
    "version": 3
   },
   "file_extension": ".py",
   "mimetype": "text/x-python",
   "name": "python",
   "nbconvert_exporter": "python",
   "pygments_lexer": "ipython3",
   "version": "3.7.3"
  }
 },
 "nbformat": 4,
 "nbformat_minor": 4
}
